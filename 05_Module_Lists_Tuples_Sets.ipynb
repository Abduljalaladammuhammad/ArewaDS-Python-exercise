{
 "cells": [
  {
   "cell_type": "markdown",
   "metadata": {},
   "source": [
    "# EXERCISE ONE"
   ]
  },
  {
   "cell_type": "code",
   "execution_count": 2,
   "metadata": {},
   "outputs": [],
   "source": [
    "empty = []"
   ]
  },
  {
   "cell_type": "code",
   "execution_count": 12,
   "metadata": {},
   "outputs": [],
   "source": [
    "five_empty = [1, 2, 'abdul', 'man', 10]"
   ]
  },
  {
   "cell_type": "code",
   "execution_count": 13,
   "metadata": {},
   "outputs": [
    {
     "name": "stdout",
     "output_type": "stream",
     "text": [
      "5\n"
     ]
    }
   ],
   "source": [
    "print(len(five_empty))"
   ]
  },
  {
   "cell_type": "code",
   "execution_count": 14,
   "metadata": {},
   "outputs": [
    {
     "name": "stdout",
     "output_type": "stream",
     "text": [
      "1\n"
     ]
    }
   ],
   "source": [
    "print(five_empty[0])"
   ]
  },
  {
   "cell_type": "code",
   "execution_count": 15,
   "metadata": {},
   "outputs": [
    {
     "name": "stdout",
     "output_type": "stream",
     "text": [
      "abdul\n"
     ]
    }
   ],
   "source": [
    "print(five_empty[2])"
   ]
  },
  {
   "cell_type": "code",
   "execution_count": 17,
   "metadata": {},
   "outputs": [
    {
     "name": "stdout",
     "output_type": "stream",
     "text": [
      "10\n"
     ]
    }
   ],
   "source": [
    "print(five_empty[-1])"
   ]
  },
  {
   "cell_type": "code",
   "execution_count": 20,
   "metadata": {},
   "outputs": [],
   "source": [
    "mixed_data_types = ['abduljalal', 26, 1.74, 'single', 'No, 98, rikkos']"
   ]
  },
  {
   "cell_type": "code",
   "execution_count": 21,
   "metadata": {},
   "outputs": [],
   "source": [
    " it_companies = ['facebook', 'google', 'apple', 'amazon', 'microsoft', 'IBM', 'oracle']"
   ]
  },
  {
   "cell_type": "code",
   "execution_count": 22,
   "metadata": {},
   "outputs": [
    {
     "name": "stdout",
     "output_type": "stream",
     "text": [
      "['abduljalal', 26, 1.74, 'single', 'No, 98, rikkos']\n"
     ]
    }
   ],
   "source": [
    "print(mixed_data_types)"
   ]
  },
  {
   "cell_type": "code",
   "execution_count": 23,
   "metadata": {},
   "outputs": [
    {
     "name": "stdout",
     "output_type": "stream",
     "text": [
      "['facebook', 'google', 'apple', 'amazon', 'microsoft', 'IBM', 'oracle']\n"
     ]
    }
   ],
   "source": [
    "print(it_companies)"
   ]
  },
  {
   "cell_type": "code",
   "execution_count": 24,
   "metadata": {},
   "outputs": [
    {
     "name": "stdout",
     "output_type": "stream",
     "text": [
      "5\n"
     ]
    }
   ],
   "source": [
    "print(len(mixed_data_types ))"
   ]
  },
  {
   "cell_type": "code",
   "execution_count": 25,
   "metadata": {},
   "outputs": [
    {
     "name": "stdout",
     "output_type": "stream",
     "text": [
      "7\n"
     ]
    }
   ],
   "source": [
    "print(len(it_companies))"
   ]
  },
  {
   "cell_type": "code",
   "execution_count": 26,
   "metadata": {},
   "outputs": [
    {
     "name": "stdout",
     "output_type": "stream",
     "text": [
      "facebook\n"
     ]
    }
   ],
   "source": [
    "print(it_companies[0])"
   ]
  },
  {
   "cell_type": "code",
   "execution_count": 27,
   "metadata": {},
   "outputs": [
    {
     "name": "stdout",
     "output_type": "stream",
     "text": [
      "oracle\n"
     ]
    }
   ],
   "source": [
    "print(it_companies[-1])"
   ]
  },
  {
   "cell_type": "code",
   "execution_count": 28,
   "metadata": {},
   "outputs": [
    {
     "name": "stdout",
     "output_type": "stream",
     "text": [
      "3\n"
     ]
    }
   ],
   "source": [
    "print(len(it_companies)//2)"
   ]
  },
  {
   "cell_type": "code",
   "execution_count": 29,
   "metadata": {},
   "outputs": [
    {
     "name": "stdout",
     "output_type": "stream",
     "text": [
      "2\n"
     ]
    }
   ],
   "source": [
    "print(len(mixed_data_types)//2)"
   ]
  },
  {
   "cell_type": "code",
   "execution_count": 30,
   "metadata": {},
   "outputs": [
    {
     "name": "stdout",
     "output_type": "stream",
     "text": [
      "No, 98, rikkos\n"
     ]
    }
   ],
   "source": [
    "print(mixed_data_types[-1])"
   ]
  },
  {
   "cell_type": "code",
   "execution_count": 31,
   "metadata": {},
   "outputs": [
    {
     "name": "stdout",
     "output_type": "stream",
     "text": [
      "abduljalal\n"
     ]
    }
   ],
   "source": [
    "print(mixed_data_types[0])"
   ]
  },
  {
   "cell_type": "code",
   "execution_count": 32,
   "metadata": {},
   "outputs": [
    {
     "name": "stdout",
     "output_type": "stream",
     "text": [
      "['facebook', 'google', 'apple', 'amazon', 'microsoft', 'IBM', 'oracle', 'IT company']\n"
     ]
    }
   ],
   "source": [
    "it_companies.append('IT company')\n",
    "print(it_companies)"
   ]
  },
  {
   "cell_type": "code",
   "execution_count": 34,
   "metadata": {},
   "outputs": [
    {
     "name": "stdout",
     "output_type": "stream",
     "text": [
      "['facebook', 'google', 'apple', 'amazon', 'phone', 'microsoft', 'IBM', 'oracle', 'IT company']\n"
     ]
    }
   ],
   "source": [
    "it_companies.insert(len(it_companies)//2, 'phone')\n",
    "print(it_companies)"
   ]
  },
  {
   "cell_type": "code",
   "execution_count": 39,
   "metadata": {},
   "outputs": [
    {
     "name": "stdout",
     "output_type": "stream",
     "text": [
      "['FACEBOOK', 'google', 'apple', 'amazon', 'phone', 'microsoft', 'IBM', 'oracle', 'IT company']\n"
     ]
    }
   ],
   "source": [
    "it_companies[0] = it_companies[0].upper()\n",
    "print(it_companies)"
   ]
  },
  {
   "cell_type": "code",
   "execution_count": 40,
   "metadata": {},
   "outputs": [
    {
     "name": "stdout",
     "output_type": "stream",
     "text": [
      "['FACEBOOK', 'google', 'APPLE', 'amazon', 'phone', 'microsoft', 'IBM', 'oracle', 'IT company']\n"
     ]
    }
   ],
   "source": [
    "it_companies[2] = it_companies[2].upper()\n",
    "print(it_companies)"
   ]
  },
  {
   "cell_type": "code",
   "execution_count": 41,
   "metadata": {},
   "outputs": [
    {
     "name": "stdout",
     "output_type": "stream",
     "text": [
      "FACEBOOK#;google#;APPLE#;amazon#;phone#;microsoft#;IBM#;oracle#;IT company\n"
     ]
    }
   ],
   "source": [
    "it_companies = '#;' .join(it_companies)\n",
    "print(it_companies)"
   ]
  },
  {
   "cell_type": "code",
   "execution_count": 42,
   "metadata": {},
   "outputs": [
    {
     "name": "stdout",
     "output_type": "stream",
     "text": [
      "True\n"
     ]
    }
   ],
   "source": [
    "print('amazon' in it_companies)"
   ]
  },
  {
   "cell_type": "code",
   "execution_count": 53,
   "metadata": {},
   "outputs": [
    {
     "name": "stdout",
     "output_type": "stream",
     "text": [
      "FAC\n"
     ]
    }
   ],
   "source": [
    "print(it_companies[:3])"
   ]
  },
  {
   "cell_type": "code",
   "execution_count": 61,
   "metadata": {},
   "outputs": [
    {
     "name": "stdout",
     "output_type": "stream",
     "text": [
      "FACEBOOK#;google#;APPLE#;amazon#;phone#;microsoft#;IBM#;oracle#;IT comp\n"
     ]
    }
   ],
   "source": [
    "print(it_companies[:-3])"
   ]
  },
  {
   "cell_type": "markdown",
   "metadata": {},
   "source": [
    "# EXERCISE 2"
   ]
  },
  {
   "cell_type": "code",
   "execution_count": 67,
   "metadata": {},
   "outputs": [
    {
     "name": "stdout",
     "output_type": "stream",
     "text": [
      "[19, 22, 19, 24, 20, 25, 26, 24, 25, 24]\n"
     ]
    }
   ],
   "source": [
    "ages = [19, 22, 19, 24, 20, 25, 26, 24, 25, 24]\n",
    "print(f\"{ages}\")"
   ]
  },
  {
   "cell_type": "code",
   "execution_count": 70,
   "metadata": {},
   "outputs": [
    {
     "name": "stdout",
     "output_type": "stream",
     "text": [
      "min_ages\n"
     ]
    }
   ],
   "source": [
    "min_ages = min(ages)\n",
    "print(f\"min_ages\")"
   ]
  },
  {
   "cell_type": "code",
   "execution_count": 71,
   "metadata": {},
   "outputs": [
    {
     "name": "stdout",
     "output_type": "stream",
     "text": [
      "ages\n"
     ]
    }
   ],
   "source": [
    "max_ages = max(ages)\n",
    "print(f\"ages\")"
   ]
  },
  {
   "cell_type": "code",
   "execution_count": 72,
   "metadata": {},
   "outputs": [
    {
     "name": "stdout",
     "output_type": "stream",
     "text": [
      "ages\n"
     ]
    }
   ],
   "source": [
    "ages.append(min_ages)\n",
    "ages.append(max_ages)\n",
    "print(f\"ages\")"
   ]
  },
  {
   "cell_type": "code",
   "execution_count": 73,
   "metadata": {},
   "outputs": [
    {
     "name": "stdout",
     "output_type": "stream",
     "text": [
      "Median Age: 24.0\n"
     ]
    }
   ],
   "source": [
    "ages.sort()\n",
    "length = len(ages)\n",
    "if length % 2 == 0:\n",
    "    median_age = (ages[length // 2 - 1] + ages[length // 2]) / 2\n",
    "else:\n",
    "    median_age = ages[length // 2]\n",
    "print(f\"Median Age: {median_age}\")"
   ]
  },
  {
   "cell_type": "code",
   "execution_count": 74,
   "metadata": {},
   "outputs": [
    {
     "name": "stdout",
     "output_type": "stream",
     "text": [
      "273\n"
     ]
    }
   ],
   "source": [
    "av_ages = sum(ages)\n",
    "print(av_ages)"
   ]
  },
  {
   "cell_type": "code",
   "execution_count": 75,
   "metadata": {},
   "outputs": [
    {
     "data": {
      "text/plain": [
       "12"
      ]
     },
     "execution_count": 75,
     "metadata": {},
     "output_type": "execute_result"
    }
   ],
   "source": [
    "len(ages)"
   ]
  },
  {
   "cell_type": "code",
   "execution_count": 76,
   "metadata": {},
   "outputs": [
    {
     "name": "stdout",
     "output_type": "stream",
     "text": [
      "22.75\n"
     ]
    }
   ],
   "source": [
    "average_ages = sum(ages) / len(ages)\n",
    "print(average_ages)"
   ]
  },
  {
   "cell_type": "code",
   "execution_count": 77,
   "metadata": {},
   "outputs": [
    {
     "name": "stdout",
     "output_type": "stream",
     "text": [
      "7\n"
     ]
    }
   ],
   "source": [
    "rainge = max(ages) - min(ages)\n",
    "print(rainge)"
   ]
  },
  {
   "cell_type": "markdown",
   "metadata": {},
   "source": []
  },
  {
   "cell_type": "markdown",
   "metadata": {},
   "source": [
    "# TUPLE EXERCISES"
   ]
  },
  {
   "cell_type": "markdown",
   "metadata": {},
   "source": [
    "# EXERCISE ONE"
   ]
  },
  {
   "cell_type": "code",
   "execution_count": 1,
   "metadata": {},
   "outputs": [
    {
     "data": {
      "text/plain": [
       "()"
      ]
     },
     "execution_count": 1,
     "metadata": {},
     "output_type": "execute_result"
    }
   ],
   "source": [
    "tuple ()"
   ]
  },
  {
   "cell_type": "code",
   "execution_count": 3,
   "metadata": {},
   "outputs": [
    {
     "name": "stdout",
     "output_type": "stream",
     "text": [
      "('aisha', 'zulai', 'zainab', 'maryam', 'amina')\n",
      "('shehu', 'alhaji', 'naim', 'sadeeq', 'usaini', 'bbiya')\n"
     ]
    }
   ],
   "source": [
    "sisters_tuple = ('aisha', 'zulai', 'zainab', 'maryam', 'amina')\n",
    "brothers_tuple = ('shehu', 'alhaji', 'naim', 'sadeeq', 'usaini', 'bbiya')\n",
    "print(sisters_tuple)\n",
    "print(brothers_tuple)"
   ]
  },
  {
   "cell_type": "code",
   "execution_count": 4,
   "metadata": {},
   "outputs": [
    {
     "name": "stdout",
     "output_type": "stream",
     "text": [
      "('shehu', 'alhaji', 'naim', 'sadeeq', 'usaini', 'bbiya', 'aisha', 'zulai', 'zainab', 'maryam', 'amina')\n"
     ]
    }
   ],
   "source": [
    "sibling = brothers_tuple + sisters_tuple \n",
    "print(sibling)"
   ]
  },
  {
   "cell_type": "code",
   "execution_count": 5,
   "metadata": {},
   "outputs": [
    {
     "name": "stdout",
     "output_type": "stream",
     "text": [
      "11\n"
     ]
    }
   ],
   "source": [
    "print(len(sibling))"
   ]
  },
  {
   "cell_type": "code",
   "execution_count": 9,
   "metadata": {},
   "outputs": [
    {
     "name": "stdout",
     "output_type": "stream",
     "text": [
      "['shehu', 'alhaji', 'naim', 'sadeeq', 'usaini', 'bbiya', 'aisha', 'zulai', 'zainab', 'maryam', 'amina']\n"
     ]
    }
   ],
   "source": [
    "family = list(sibling)\n",
    "print(family)\n"
   ]
  },
  {
   "cell_type": "code",
   "execution_count": 11,
   "metadata": {},
   "outputs": [
    {
     "name": "stdout",
     "output_type": "stream",
     "text": [
      "['shehu', 'alhaji', 'naim', 'sadeeq', 'usaini', 'bbiya', 'aisha', 'zulai', 'zainab', 'maryam', 'amina', 'adam']\n"
     ]
    }
   ],
   "source": [
    "family.append('adam')\n",
    "print(family)"
   ]
  },
  {
   "cell_type": "code",
   "execution_count": 16,
   "metadata": {},
   "outputs": [
    {
     "name": "stdout",
     "output_type": "stream",
     "text": [
      "['hussaina', 'shehu', 'alhaji', 'naim', 'sadeeq', 'usaini', 'bbiya', 'aisha', 'zulai', 'zainab', 'maryam', 'amina', 'adam']\n"
     ]
    }
   ],
   "source": [
    "family.insert(0, 'hussaina')\n",
    "print(family)"
   ]
  },
  {
   "cell_type": "code",
   "execution_count": 17,
   "metadata": {},
   "outputs": [
    {
     "name": "stdout",
     "output_type": "stream",
     "text": [
      "['adam', 'hussaina', 'shehu', 'alhaji', 'naim', 'sadeeq', 'usaini', 'bbiya', 'aisha', 'zulai', 'zainab', 'maryam', 'amina']\n"
     ]
    }
   ],
   "source": [
    "family.pop()\n",
    "family.insert(0, 'adam')\n",
    "print(family)"
   ]
  },
  {
   "cell_type": "code",
   "execution_count": 18,
   "metadata": {},
   "outputs": [
    {
     "name": "stdout",
     "output_type": "stream",
     "text": [
      "['adam', 'hussaina', 'shehu', 'alhaji', 'naim', 'sadeeq', 'usaini', 'bbiya', 'aisha', 'zulai', 'zainab', 'maryam', 'amina']\n"
     ]
    }
   ],
   "source": [
    "sibling = list(family)\n",
    "print(sibling)"
   ]
  },
  {
   "cell_type": "markdown",
   "metadata": {},
   "source": [
    "# EXERCISE 2"
   ]
  },
  {
   "cell_type": "code",
   "execution_count": 19,
   "metadata": {},
   "outputs": [
    {
     "name": "stdout",
     "output_type": "stream",
     "text": [
      "['adam', 'hussaina', 'shehu', 'alhaji', 'naim', 'sadeeq', 'usaini', 'bbiya', 'aisha', 'zulai', 'zainab', 'maryam', 'amina']\n"
     ]
    }
   ],
   "source": [
    "print(family)"
   ]
  },
  {
   "cell_type": "code",
   "execution_count": 23,
   "metadata": {},
   "outputs": [
    {
     "name": "stdout",
     "output_type": "stream",
     "text": [
      "['adam', 'hussaina', 'shehu', 'alhaji', 'naim', 'sadeeq', 'usaini', 'bbiya', 'aisha', 'zulai', 'zainab', 'maryam', 'amina']\n"
     ]
    }
   ],
   "source": [
    "first, second, third,  *rest = family\n",
    "print(family)"
   ]
  },
  {
   "cell_type": "code",
   "execution_count": 24,
   "metadata": {},
   "outputs": [
    {
     "name": "stdout",
     "output_type": "stream",
     "text": [
      "adam\n"
     ]
    }
   ],
   "source": [
    "print(first)"
   ]
  },
  {
   "cell_type": "code",
   "execution_count": 25,
   "metadata": {},
   "outputs": [
    {
     "name": "stdout",
     "output_type": "stream",
     "text": [
      "hussaina\n",
      "shehu\n",
      "alhaji naim sadeeq usaini bbiya aisha zulai zainab maryam amina\n"
     ]
    }
   ],
   "source": [
    "print(second)\n",
    "print(third)\n",
    "print(*rest)"
   ]
  },
  {
   "cell_type": "code",
   "execution_count": 27,
   "metadata": {},
   "outputs": [
    {
     "name": "stdout",
     "output_type": "stream",
     "text": [
      "('banana', 'mango', 'pinapple', 'orange', 'spinach', 'egu', 'lettuce', 'cabbage', 'milk', 'fish', 'egg', 'cheese')\n"
     ]
    }
   ],
   "source": [
    "fruits = (\"banana\", \"mango\", \"pinapple\", \"orange\")\n",
    "vegetables = (\"spinach\",\"egu\", \"lettuce\", \"cabbage\")\n",
    "animal_product = (\"milk\", \"fish\", \"egg\", \"cheese\")\n",
    "\n",
    "food_stuffs = fruits + vegetables + animal_product\n",
    "print(food_stuffs)"
   ]
  },
  {
   "cell_type": "code",
   "execution_count": 29,
   "metadata": {},
   "outputs": [
    {
     "name": "stdout",
     "output_type": "stream",
     "text": [
      "['banana', 'mango', 'pinapple', 'orange', 'spinach', 'egu', 'lettuce', 'cabbage', 'milk', 'fish', 'egg', 'cheese']\n"
     ]
    }
   ],
   "source": [
    "food_stuffs_it = list(food_stuffs)\n",
    "print(food_stuffs_it)"
   ]
  },
  {
   "cell_type": "code",
   "execution_count": 30,
   "metadata": {},
   "outputs": [
    {
     "name": "stdout",
     "output_type": "stream",
     "text": [
      "6\n"
     ]
    }
   ],
   "source": [
    "food_stuffs_middle = len(food_stuffs_it) // 2\n",
    "print(food_stuffs_middle)"
   ]
  },
  {
   "cell_type": "code",
   "execution_count": 32,
   "metadata": {},
   "outputs": [
    {
     "name": "stdout",
     "output_type": "stream",
     "text": [
      "first three: ['banana', 'mango', 'pinapple']\n"
     ]
    }
   ],
   "source": [
    "first_three = food_stuffs_it[:3]\n",
    "print(\"first three:\", first_three)"
   ]
  },
  {
   "cell_type": "code",
   "execution_count": 33,
   "metadata": {},
   "outputs": [
    {
     "name": "stdout",
     "output_type": "stream",
     "text": [
      "last three: ['banana', 'mango', 'pinapple', 'orange', 'spinach', 'egu', 'lettuce', 'cabbage', 'milk']\n"
     ]
    }
   ],
   "source": [
    "last_three = food_stuffs_it[:-3]\n",
    "print(\"last three:\", last_three)"
   ]
  },
  {
   "cell_type": "code",
   "execution_count": 34,
   "metadata": {},
   "outputs": [],
   "source": [
    "del (food_stuffs)"
   ]
  },
  {
   "cell_type": "code",
   "execution_count": 35,
   "metadata": {},
   "outputs": [
    {
     "ename": "NameError",
     "evalue": "name 'food_stuffs' is not defined",
     "output_type": "error",
     "traceback": [
      "\u001b[1;31m---------------------------------------------------------------------------\u001b[0m",
      "\u001b[1;31mNameError\u001b[0m                                 Traceback (most recent call last)",
      "\u001b[1;32m<ipython-input-35-4ddaeae5e48a>\u001b[0m in \u001b[0;36m<module>\u001b[1;34m\u001b[0m\n\u001b[1;32m----> 1\u001b[1;33m \u001b[0mprint\u001b[0m\u001b[1;33m(\u001b[0m\u001b[1;34m'mango'\u001b[0m \u001b[1;32min\u001b[0m \u001b[0mfood_stuffs\u001b[0m\u001b[1;33m)\u001b[0m\u001b[1;33m\u001b[0m\u001b[1;33m\u001b[0m\u001b[0m\n\u001b[0m",
      "\u001b[1;31mNameError\u001b[0m: name 'food_stuffs' is not defined"
     ]
    }
   ],
   "source": [
    "print('mango' in food_stuffs)"
   ]
  },
  {
   "cell_type": "code",
   "execution_count": 37,
   "metadata": {},
   "outputs": [
    {
     "name": "stdout",
     "output_type": "stream",
     "text": [
      "('Denmark', 'Finland', 'Iceland', 'Norway', 'Sweden')\n"
     ]
    }
   ],
   "source": [
    "nordic_countries = ('Denmark', 'Finland','Iceland', 'Norway', 'Sweden')\n",
    "\n",
    "print(nordic_countries)"
   ]
  },
  {
   "cell_type": "code",
   "execution_count": 41,
   "metadata": {},
   "outputs": [
    {
     "name": "stdout",
     "output_type": "stream",
     "text": [
      "Is Estonia a nordic country? False\n"
     ]
    }
   ],
   "source": [
    "print(\"Is Estonia a nordic country?\", 'estonia' in nordic_countries)"
   ]
  },
  {
   "cell_type": "code",
   "execution_count": 43,
   "metadata": {},
   "outputs": [
    {
     "name": "stdout",
     "output_type": "stream",
     "text": [
      "Is Iceland a nordic country? True\n"
     ]
    }
   ],
   "source": [
    "print(\"Is Iceland a nordic country?\", 'Iceland' in nordic_countries)"
   ]
  },
  {
   "cell_type": "markdown",
   "metadata": {},
   "source": [
    "# SET EXERCISES"
   ]
  },
  {
   "cell_type": "markdown",
   "metadata": {},
   "source": [
    "## EXERCISE ONE"
   ]
  },
  {
   "cell_type": "code",
   "execution_count": 1,
   "metadata": {},
   "outputs": [],
   "source": [
    "# sets\n",
    "it_companies = {'Facebook', 'Google', 'Microsoft', 'Apple', 'IBM', 'Oracle', 'Amazon'}\n",
    "A = {19, 22, 24, 20, 25, 26}\n",
    "B = {19, 22, 20, 25, 26, 24, 28, 27}\n",
    "age = [22, 19, 24, 25, 26, 24, 25, 24]"
   ]
  },
  {
   "cell_type": "code",
   "execution_count": 2,
   "metadata": {},
   "outputs": [
    {
     "name": "stdout",
     "output_type": "stream",
     "text": [
      "7\n"
     ]
    }
   ],
   "source": [
    "print(len(it_companies))"
   ]
  },
  {
   "cell_type": "code",
   "execution_count": 12,
   "metadata": {},
   "outputs": [
    {
     "name": "stdout",
     "output_type": "stream",
     "text": [
      "{'Nokia', 'i', 'e', 'N', 'x', 'o', 'IBM', 'I', 'n', 'D', 'Twitter', 'Hp', 'Google', 'l', 'linkdin', 'Amazon', 'Oracle', 'c', 'k', 'Microsoft', 'Apple', 'f', 'y', 't', 'Del', 'Samsung', 'M', 'a', 'Infinix', 'Facebook', 's'}\n"
     ]
    }
   ],
   "source": [
    "it_companies.add('Twitter')\n",
    "print(it_companies)"
   ]
  },
  {
   "cell_type": "code",
   "execution_count": 10,
   "metadata": {},
   "outputs": [
    {
     "name": "stdout",
     "output_type": "stream",
     "text": [
      "{'Nokia', 'i', 'e', 'N', 'x', 'o', 'IBM', 'I', 'n', 'D', 'Twitter', 'Hp', 'Google', 'l', 'linkdin', 'Amazon', 'Oracle', 'c', 'k', 'Microsoft', 'Apple', 'f', 'y', 't', 'Del', 'Samsung', 'M', 'a', 'Infinix', 'Facebook', 's'}\n"
     ]
    }
   ],
   "source": [
    "it_companies.add('linkdin')\n",
    "print(it_companies)"
   ]
  },
  {
   "cell_type": "code",
   "execution_count": 13,
   "metadata": {},
   "outputs": [
    {
     "name": "stdout",
     "output_type": "stream",
     "text": [
      "{'Nokia', 'i', 'e', 'N', 'x', 'o', 'IBM', 'I', 'n', 'D', 'Twitter', 'Hp', 'Google', 'l', 'linkdin', 'Amazon', 'Oracle', 'c', 'k', 'Microsoft', 'Apple', 'f', 'y', 't', 'Del', 'Samsung', 'M', 'a', 'Infinix', 's'}\n"
     ]
    }
   ],
   "source": [
    "it_companies.remove('Facebook')\n",
    "print(it_companies)"
   ]
  },
  {
   "cell_type": "code",
   "execution_count": 15,
   "metadata": {},
   "outputs": [
    {
     "name": "stdout",
     "output_type": "stream",
     "text": [
      "{'i', 'e', 'N', 'x', 'o', 'IBM', 'I', 'n', 'D', 'Twitter', 'Hp', 'Google', 'l', 'linkdin', 'Amazon', 'Oracle', 'c', 'k', 'Microsoft', 'Apple', 'f', 'y', 't', 'Del', 'Samsung', 'M', 'a', 'Infinix', 's'}\n"
     ]
    }
   ],
   "source": [
    "it_companies.discard('Nokia')\n",
    "print(it_companies)"
   ]
  },
  {
   "cell_type": "markdown",
   "metadata": {},
   "source": [
    "# EXERCISE TWO"
   ]
  },
  {
   "cell_type": "code",
   "execution_count": 16,
   "metadata": {},
   "outputs": [
    {
     "name": "stdout",
     "output_type": "stream",
     "text": [
      "{19, 20, 22, 24, 25, 26, 27, 28}\n"
     ]
    }
   ],
   "source": [
    "AB = A.union(B)\n",
    "print(AB)"
   ]
  },
  {
   "cell_type": "code",
   "execution_count": 17,
   "metadata": {},
   "outputs": [
    {
     "name": "stdout",
     "output_type": "stream",
     "text": [
      "{19, 20, 22, 24, 25, 26, 27, 28}\n"
     ]
    }
   ],
   "source": [
    "print(A.union(B))"
   ]
  },
  {
   "cell_type": "code",
   "execution_count": 18,
   "metadata": {},
   "outputs": [
    {
     "data": {
      "text/plain": [
       "{19, 20, 22, 24, 25, 26}"
      ]
     },
     "execution_count": 18,
     "metadata": {},
     "output_type": "execute_result"
    }
   ],
   "source": [
    "A.intersection(B)"
   ]
  },
  {
   "cell_type": "code",
   "execution_count": 20,
   "metadata": {},
   "outputs": [
    {
     "data": {
      "text/plain": [
       "False"
      ]
     },
     "execution_count": 20,
     "metadata": {},
     "output_type": "execute_result"
    }
   ],
   "source": [
    "A.isdisjoint(B)"
   ]
  },
  {
   "cell_type": "code",
   "execution_count": 25,
   "metadata": {},
   "outputs": [
    {
     "name": "stdout",
     "output_type": "stream",
     "text": [
      "{19, 20, 22, 24, 25, 26, 27, 28}\n"
     ]
    }
   ],
   "source": [
    "BA = B.union(A)\n",
    "print(BA)\n"
   ]
  },
  {
   "cell_type": "code",
   "execution_count": 27,
   "metadata": {},
   "outputs": [
    {
     "name": "stdout",
     "output_type": "stream",
     "text": [
      "set()\n"
     ]
    }
   ],
   "source": [
    "C = A.difference(B)\n",
    "print(C)"
   ]
  },
  {
   "cell_type": "code",
   "execution_count": 28,
   "metadata": {},
   "outputs": [],
   "source": [
    "del C"
   ]
  },
  {
   "cell_type": "markdown",
   "metadata": {},
   "source": [
    "# Exercise three"
   ]
  },
  {
   "cell_type": "code",
   "execution_count": 29,
   "metadata": {},
   "outputs": [
    {
     "name": "stdout",
     "output_type": "stream",
     "text": [
      "{19, 22, 24, 25, 26}\n"
     ]
    }
   ],
   "source": [
    "ages = set(age)\n",
    "print(ages)"
   ]
  },
  {
   "cell_type": "code",
   "execution_count": 30,
   "metadata": {},
   "outputs": [
    {
     "data": {
      "text/plain": [
       "5"
      ]
     },
     "execution_count": 30,
     "metadata": {},
     "output_type": "execute_result"
    }
   ],
   "source": [
    "len(ages)"
   ]
  },
  {
   "cell_type": "code",
   "execution_count": 31,
   "metadata": {},
   "outputs": [
    {
     "data": {
      "text/plain": [
       "8"
      ]
     },
     "execution_count": 31,
     "metadata": {},
     "output_type": "execute_result"
    }
   ],
   "source": [
    "len(age)"
   ]
  },
  {
   "cell_type": "code",
   "execution_count": null,
   "metadata": {},
   "outputs": [],
   "source": []
  }
 ],
 "metadata": {
  "kernelspec": {
   "display_name": "Python 3",
   "language": "python",
   "name": "python3"
  },
  "language_info": {
   "codemirror_mode": {
    "name": "ipython",
    "version": 3
   },
   "file_extension": ".py",
   "mimetype": "text/x-python",
   "name": "python",
   "nbconvert_exporter": "python",
   "pygments_lexer": "ipython3",
   "version": "3.7.1"
  }
 },
 "nbformat": 4,
 "nbformat_minor": 2
}
