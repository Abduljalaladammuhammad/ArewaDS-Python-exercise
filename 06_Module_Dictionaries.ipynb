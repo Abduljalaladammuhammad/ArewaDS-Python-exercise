{
 "cells": [
  {
   "cell_type": "markdown",
   "metadata": {},
   "source": [
    "# EXERCISE 6"
   ]
  },
  {
   "cell_type": "code",
   "execution_count": 1,
   "metadata": {},
   "outputs": [],
   "source": [
    "dog = {}"
   ]
  },
  {
   "cell_type": "code",
   "execution_count": 2,
   "metadata": {},
   "outputs": [
    {
     "name": "stdout",
     "output_type": "stream",
     "text": [
      "{'name': 'Jackey', 'color': 'brown', 'breed': 'Nigeria', 'leg': 4, 'age': 10}\n"
     ]
    }
   ],
   "source": [
    "dog['name'] = 'Jackey'\n",
    "dog['color'] = 'brown'\n",
    "dog['breed'] = 'Nigeria'\n",
    "dog['leg'] = 4\n",
    "dog['age'] = 10\n",
    "print(dog)"
   ]
  },
  {
   "cell_type": "code",
   "execution_count": 12,
   "metadata": {},
   "outputs": [
    {
     "name": "stdout",
     "output_type": "stream",
     "text": [
      "{'first_name': 'Abduljalal', 'last_name': 'Adam', 'gender': 'male', 'age': 26, 'marital_status': 'single', 'skills': ['python', 'teacher', 'programmer'], 'country': 'Nigeria', 'city': 'plateau', 'address': 'no 89 rikkos'}\n"
     ]
    }
   ],
   "source": [
    "student_dic = {\n",
    "    'first_name': 'Abduljalal',\n",
    "            'last_name': 'Adam',\n",
    "            'gender': 'male',\n",
    "            'age': 26,\n",
    "            'marital_status': 'single',\n",
    "            'skills': ['python', 'teacher', 'programmer'],\n",
    "            'country': 'Nigeria',\n",
    "            'city': 'plateau',\n",
    "            'address': 'no 89 rikkos'\n",
    "}\n",
    "\n",
    "print(student_dic)"
   ]
  },
  {
   "cell_type": "code",
   "execution_count": 13,
   "metadata": {},
   "outputs": [
    {
     "name": "stdout",
     "output_type": "stream",
     "text": [
      "9\n"
     ]
    }
   ],
   "source": [
    "print(len(student_dic))"
   ]
  },
  {
   "cell_type": "code",
   "execution_count": 14,
   "metadata": {},
   "outputs": [
    {
     "name": "stdout",
     "output_type": "stream",
     "text": [
      "['python', 'teacher', 'programmer']\n"
     ]
    }
   ],
   "source": [
    "skills = student_dic.get('skills')\n",
    "print(skills)"
   ]
  },
  {
   "cell_type": "code",
   "execution_count": 15,
   "metadata": {},
   "outputs": [
    {
     "name": "stdout",
     "output_type": "stream",
     "text": [
      "<class 'list'>\n"
     ]
    }
   ],
   "source": [
    "print(type(skills))"
   ]
  },
  {
   "cell_type": "code",
   "execution_count": 16,
   "metadata": {},
   "outputs": [
    {
     "name": "stdout",
     "output_type": "stream",
     "text": [
      "['python', 'teacher', 'programmer', 'teamwork', 'hacker']\n"
     ]
    }
   ],
   "source": [
    "skills.extend(['teamwork', 'hacker'])\n",
    "print(skills)"
   ]
  },
  {
   "cell_type": "code",
   "execution_count": 17,
   "metadata": {},
   "outputs": [
    {
     "name": "stdout",
     "output_type": "stream",
     "text": [
      "['first_name', 'last_name', 'gender', 'age', 'marital_status', 'skills', 'country', 'city', 'address']\n"
     ]
    }
   ],
   "source": [
    "dictionar_keys = list(student_dic.keys())\n",
    "print(dictionar_keys)"
   ]
  },
  {
   "cell_type": "code",
   "execution_count": 18,
   "metadata": {},
   "outputs": [
    {
     "name": "stdout",
     "output_type": "stream",
     "text": [
      "['Abduljalal', 'Adam', 'male', 26, 'single', ['python', 'teacher', 'programmer', 'teamwork', 'hacker'], 'Nigeria', 'plateau', 'no 89 rikkos']\n"
     ]
    }
   ],
   "source": [
    "dictionary_value = list(student_dic.values())\n",
    "print(dictionary_value)"
   ]
  },
  {
   "cell_type": "code",
   "execution_count": 20,
   "metadata": {},
   "outputs": [
    {
     "name": "stdout",
     "output_type": "stream",
     "text": [
      "(('first_name', 'Abduljalal'), ('last_name', 'Adam'), ('gender', 'male'), ('age', 26), ('marital_status', 'single'), ('skills', ['python', 'teacher', 'programmer', 'teamwork', 'hacker']), ('country', 'Nigeria'), ('city', 'plateau'), ('address', 'no 89 rikkos'))\n"
     ]
    }
   ],
   "source": [
    "tupl = tuple(student_dic.items())\n",
    "print(tupl)"
   ]
  },
  {
   "cell_type": "code",
   "execution_count": 21,
   "metadata": {},
   "outputs": [],
   "source": [
    "del student_dic['first_name']"
   ]
  },
  {
   "cell_type": "code",
   "execution_count": 22,
   "metadata": {},
   "outputs": [
    {
     "name": "stdout",
     "output_type": "stream",
     "text": [
      "{'last_name': 'Adam', 'gender': 'male', 'age': 26, 'marital_status': 'single', 'skills': ['python', 'teacher', 'programmer', 'teamwork', 'hacker'], 'country': 'Nigeria', 'city': 'plateau', 'address': 'no 89 rikkos'}\n"
     ]
    }
   ],
   "source": [
    "print(student_dic)"
   ]
  },
  {
   "cell_type": "code",
   "execution_count": 23,
   "metadata": {},
   "outputs": [],
   "source": [
    "del student_dic"
   ]
  },
  {
   "cell_type": "code",
   "execution_count": 24,
   "metadata": {},
   "outputs": [
    {
     "ename": "NameError",
     "evalue": "name 'student_dic' is not defined",
     "output_type": "error",
     "traceback": [
      "\u001b[1;31m---------------------------------------------------------------------------\u001b[0m",
      "\u001b[1;31mNameError\u001b[0m                                 Traceback (most recent call last)",
      "\u001b[1;32m<ipython-input-24-62443acb1fc9>\u001b[0m in \u001b[0;36m<module>\u001b[1;34m\u001b[0m\n\u001b[1;32m----> 1\u001b[1;33m \u001b[0mprint\u001b[0m\u001b[1;33m(\u001b[0m\u001b[0mstudent_dic\u001b[0m\u001b[1;33m)\u001b[0m\u001b[1;33m\u001b[0m\u001b[1;33m\u001b[0m\u001b[0m\n\u001b[0m",
      "\u001b[1;31mNameError\u001b[0m: name 'student_dic' is not defined"
     ]
    }
   ],
   "source": [
    "print(student_dic)"
   ]
  },
  {
   "cell_type": "code",
   "execution_count": null,
   "metadata": {},
   "outputs": [],
   "source": []
  }
 ],
 "metadata": {
  "kernelspec": {
   "display_name": "Python 3",
   "language": "python",
   "name": "python3"
  },
  "language_info": {
   "codemirror_mode": {
    "name": "ipython",
    "version": 3
   },
   "file_extension": ".py",
   "mimetype": "text/x-python",
   "name": "python",
   "nbconvert_exporter": "python",
   "pygments_lexer": "ipython3",
   "version": "3.7.1"
  }
 },
 "nbformat": 4,
 "nbformat_minor": 2
}
