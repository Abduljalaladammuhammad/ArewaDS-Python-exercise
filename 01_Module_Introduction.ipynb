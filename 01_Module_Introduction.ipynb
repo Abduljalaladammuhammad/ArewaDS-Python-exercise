<!DOCTYPE html>
<!-- saved from url=(0026)http://localhost:8888/tree -->
<html lang="en-us" data-qb-extension-installed="true" data-qb-installed="true"><head><meta http-equiv="Content-Type" content="text/html; charset=UTF-8">
    

    <title>Home</title>
    <link id="favicon" rel="shortcut icon" type="image/x-icon" href="http://localhost:8888/static/base/images/favicon.ico?v=97c6417ed01bdc0ae3ef32ae4894fd03">
    <meta http-equiv="X-UA-Compatible" content="IE=edge">
    <link rel="stylesheet" href="./01_Module_Introduction_files/jquery-ui.min.css" type="text/css">
    <link rel="stylesheet" href="./01_Module_Introduction_files/jquery.typeahead.min.css" type="text/css">
    <meta name="viewport" content="width=device-width, initial-scale=1.0">
    
    
    <link rel="stylesheet" href="./01_Module_Introduction_files/style.min.css" type="text/css">
    
    <link rel="stylesheet" href="./01_Module_Introduction_files/custom.css" type="text/css">
    <script src="./01_Module_Introduction_files/promise.min.js.download" type="text/javascript" charset="utf-8"></script>
    <script src="./01_Module_Introduction_files/index.js.download" type="text/javascript"></script>
    <script src="./01_Module_Introduction_files/index(1).js.download" type="text/javascript"></script>
    <script src="./01_Module_Introduction_files/index(2).js.download" type="text/javascript"></script>
    <script src="./01_Module_Introduction_files/require.js.download" type="text/javascript" charset="utf-8"></script>
    <script>
      require.config({
          
          urlArgs: "v=20241223135717",
          
          baseUrl: '/static/',
          paths: {
            'auth/js/main': 'auth/js/main.min',
            custom : '/custom',
            nbextensions : '/nbextensions',
            kernelspecs : '/kernelspecs',
            underscore : 'components/underscore/underscore-min',
            backbone : 'components/backbone/backbone-min',
            jed: 'components/jed/jed',
            jquery: 'components/jquery/jquery.min',
            json: 'components/requirejs-plugins/src/json',
            text: 'components/requirejs-text/text',
            bootstrap: 'components/bootstrap/dist/js/bootstrap.min',
            bootstraptour: 'components/bootstrap-tour/build/js/bootstrap-tour.min',
            'jquery-ui': 'components/jquery-ui/jquery-ui.min',
            moment: 'components/moment/min/moment-with-locales',
            codemirror: 'components/codemirror',
            termjs: 'components/xterm.js/xterm',
            typeahead: 'components/jquery-typeahead/dist/jquery.typeahead.min',
          },
          map: { // for backward compatibility
              "*": {
                  "jqueryui": "jquery-ui",
              }
          },
          shim: {
            typeahead: {
              deps: ["jquery"],
              exports: "typeahead"
            },
            underscore: {
              exports: '_'
            },
            backbone: {
              deps: ["underscore", "jquery"],
              exports: "Backbone"
            },
            bootstrap: {
              deps: ["jquery"],
              exports: "bootstrap"
            },
            bootstraptour: {
              deps: ["bootstrap"],
              exports: "Tour"
            },
            "jquery-ui": {
              deps: ["jquery"],
              exports: "$"
            }
          },
          waitSeconds: 30,
      });

      require.config({
          map: {
              '*':{
                'contents': 'services/contents',
              }
          }
      });

      // error-catching custom.js shim.
      define("custom", function (require, exports, module) {
          try {
              var custom = require('custom/custom');
              console.debug('loaded custom.js');
              return custom;
          } catch (e) {
              console.error("error loading custom.js", e);
              return {};
          }
      })

    document.nbjs_translations = {"domain": "nbjs", "locale_data": {"nbjs": {"": {"domain": "nbjs"}}}};
    document.documentElement.lang = navigator.language.toLowerCase();
    </script>

    
    

<style id="eefljgmhgaidffapnppcmmafobefjece-d51ccbe2-fb13-4d79-9ab6-0f22cce4b656-style">
.eefljgmhgaidffapnppcmmafobefjece-d51ccbe2-fb13-4d79-9ab6-0f22cce4b656-modal {
  display: block;
  background-color: rgba(0, 0, 0, 0);
  align-items: center;
  justify-content: center;
  z-index: 90000;
}

.eefljgmhgaidffapnppcmmafobefjece-d51ccbe2-fb13-4d79-9ab6-0f22cce4b656-modal-content {
  background-color: white;
  padding: 20px;
  border-radius: 10px;
  box-shadow: 0 2px 8px rgba(0, 0, 0, 0.2);
}

/* The Modal (background) */
.eefljgmhgaidffapnppcmmafobefjece-d51ccbe2-fb13-4d79-9ab6-0f22cce4b656-modal-2 {
  display: block; /* Hidden by default */
  position: fixed; /* Stay in place */
  z-index: 9999; /* Sit on top */
  left: 0;
  top: 0;
  padding-top: 5%; /* Location of the box */
  width: 100%; /* Full width */
  height: 100%; /* Full height */
  background-color: rgb(0,0,0); /* Fallback color */
  background-color: rgba(0,0,0,0.4); /* Black w/ opacity */
}


/* Help Icon Styles */
.eefljgmhgaidffapnppcmmafobefjece-d51ccbe2-fb13-4d79-9ab6-0f22cce4b656-bsr-help-icon {
  width: 25px;
  height: 25px;
  border-radius: 100px;
  margin: 5px;
  line-height: 1.2;
  border: 1px solid #ddd;
  display: flex;
  align-items: center;
  justify-content: center;
  cursor: pointer;
  text-align: center;
  color: rgb(255, 255, 255);
  background-color: rgb(130, 87, 254);
}

.eefljgmhgaidffapnppcmmafobefjece-d51ccbe2-fb13-4d79-9ab6-0f22cce4b656-circle-icon {
  width: 25px;
  height: 25px;
  border-radius: 100px;
  margin: 5px;
  line-height: 1.2;
  border: 1px solid transparent;
  display: flex;
  align-items: center;
  justify-content: center;
  cursor: pointer;
  color: black;
}

.eefljgmhgaidffapnppcmmafobefjece-d51ccbe2-fb13-4d79-9ab6-0f22cce4b656-show {
  display: block;
}

.eefljgmhgaidffapnppcmmafobefjece-d51ccbe2-fb13-4d79-9ab6-0f22cce4b656-hide {
  display: none;
}
.eefljgmhgaidffapnppcmmafobefjece-d51ccbe2-fb13-4d79-9ab6-0f22cce4b656-close-icon {
  position: absolute;
  top: 5px;
  right: 5px;
  width: 20px;
  height: 20px;
  border-radius: 100px;
  line-height: 1.2;
  border: 1px solid #ddd;
  display: flex;
  align-items: center;
  justify-content: center;
  cursor: pointer;
}

.eefljgmhgaidffapnppcmmafobefjece-d51ccbe2-fb13-4d79-9ab6-0f22cce4b656-close-icon:hover {
  background-color: #e32b2b;
  color: white;
}

.eefljgmhgaidffapnppcmmafobefjece-d51ccbe2-fb13-4d79-9ab6-0f22cce4b656-kdplogoword {
  color: rgb(130, 87, 254);
}

.eefljgmhgaidffapnppcmmafobefjece-d51ccbe2-fb13-4d79-9ab6-0f22cce4b656-bsr-td {
  padding-left: 5px;
  padding-right: 5px;
  margin-left: 3px;
  margin-right: 3px;
  text-align: start;
  color: #000;
  border: 2px solid #E0D6FF;
}

.eefljgmhgaidffapnppcmmafobefjece-d51ccbe2-fb13-4d79-9ab6-0f22cce4b656-main-table {
  height: 170px;
  width: 100%;
  border-collapse: collapse;
  border: 2px solid white;
  color: white;
  text-align: center;
  font-size: 16px;
}

.eefljgmhgaidffapnppcmmafobefjece-d51ccbe2-fb13-4d79-9ab6-0f22cce4b656-box-wrapper {
  background: white;
  color: black;
    box-shadow: rgba(0, 0, 0, 0.2) 0px 4px 8px 0px;
    border-radius: 10px;
}

.eefljgmhgaidffapnppcmmafobefjece-d51ccbe2-fb13-4d79-9ab6-0f22cce4b656-top-box {
  display: flex;
  border-top-left-radius: 10px;
  border-top-right-radius: 10px;
  border: 2px solid rgb(130, 87, 254);
  border-bottom: 1px solid rgb(130, 87, 254);
  width: 100%;
  height: 40px;
  line-height: 40px;
  text-align: start;
}

.eefljgmhgaidffapnppcmmafobefjece-d51ccbe2-fb13-4d79-9ab6-0f22cce4b656-bottom-box {
  display: flex;
  border-bottom-left-radius: 10px;
  border-bottom-right-radius: 10px;
  border: 2px solid rgb(130, 87, 254);
  border-top: 1px solid rgb(130, 87, 254);
  width: 100%;
  height: 40px;
  line-height: 40px;
  text-align: start;
}

.eefljgmhgaidffapnppcmmafobefjece-d51ccbe2-fb13-4d79-9ab6-0f22cce4b656-inner-box {
  display: flex;
  border: 2px solid rgb(130, 87, 254);
  border-bottom: 1px solid rgb(130, 87, 254);
  border-top: 1px solid rgb(130, 87, 254);
  width: 100%;
  height: 40px;
  line-height: 40px;
  text-align: start;
}

.eefljgmhgaidffapnppcmmafobefjece-d51ccbe2-fb13-4d79-9ab6-0f22cce4b656-left-box {
  width: 80px;
  border-right: 2px solid rgb(130, 87, 254);
  margin: 0px 6px 0px 6px;
}

.eefljgmhgaidffapnppcmmafobefjece-d51ccbe2-fb13-4d79-9ab6-0f22cce4b656-card {
  perspective: 600px;
  position: relative;
}
.eefljgmhgaidffapnppcmmafobefjece-d51ccbe2-fb13-4d79-9ab6-0f22cce4b656-card.eefljgmhgaidffapnppcmmafobefjece-d51ccbe2-fb13-4d79-9ab6-0f22cce4b656-is-switched .eefljgmhgaidffapnppcmmafobefjece-d51ccbe2-fb13-4d79-9ab6-0f22cce4b656-card__wrapper {
  animation: eefljgmhgaidffapnppcmmafobefjece-d51ccbe2-fb13-4d79-9ab6-0f22cce4b656-rotate 0.5s linear both;
}
.eefljgmhgaidffapnppcmmafobefjece-d51ccbe2-fb13-4d79-9ab6-0f22cce4b656-card__wrapper {
  transform-style: preserve-3d;
  animation: eefljgmhgaidffapnppcmmafobefjece-d51ccbe2-fb13-4d79-9ab6-0f22cce4b656-rotate-inverse 0.5s linear both;
}
.eefljgmhgaidffapnppcmmafobefjece-d51ccbe2-fb13-4d79-9ab6-0f22cce4b656-card__side {
  backface-visibility: hidden;
  position: absolute;
  top: 0;
  left: 0;
  width: 100%;
}
.eefljgmhgaidffapnppcmmafobefjece-d51ccbe2-fb13-4d79-9ab6-0f22cce4b656-card__side.eefljgmhgaidffapnppcmmafobefjece-d51ccbe2-fb13-4d79-9ab6-0f22cce4b656-is-active {
  position: static;
}
.eefljgmhgaidffapnppcmmafobefjece-d51ccbe2-fb13-4d79-9ab6-0f22cce4b656-card__side--back {
  transform: rotateY(180deg);
}
@keyframes eefljgmhgaidffapnppcmmafobefjece-d51ccbe2-fb13-4d79-9ab6-0f22cce4b656-rotate {
  0% {
    transform: rotateY(0);
  }
  70% {
    transform: rotateY(200deg);
  }
  100% {
    transform: rotateY(180deg);
  }
}
@keyframes eefljgmhgaidffapnppcmmafobefjece-d51ccbe2-fb13-4d79-9ab6-0f22cce4b656-rotate-inverse {
  0% {
    transform: rotateY(180deg);
  }
  70% {
    transform: rotateY(-20deg);
  }
  100% {
    transform: rotateY(0);
  }
}

.eefljgmhgaidffapnppcmmafobefjece-d51ccbe2-fb13-4d79-9ab6-0f22cce4b656-card {
}
.eefljgmhgaidffapnppcmmafobefjece-d51ccbe2-fb13-4d79-9ab6-0f22cce4b656-card__side {
}
.eefljgmhgaidffapnppcmmafobefjece-d51ccbe2-fb13-4d79-9ab6-0f22cce4b656-card__side--back {
}


.eefljgmhgaidffapnppcmmafobefjece-d51ccbe2-fb13-4d79-9ab6-0f22cce4b656-tooltip {
  position: relative;
  display: inline-block;
}

.eefljgmhgaidffapnppcmmafobefjece-d51ccbe2-fb13-4d79-9ab6-0f22cce4b656-tooltip .eefljgmhgaidffapnppcmmafobefjece-d51ccbe2-fb13-4d79-9ab6-0f22cce4b656-tooltiptext {
  visibility: hidden;
  min-width: max-content;
  background-color: white;
  color: black;
  text-align: center;
  border-radius: 6px;
  padding: 8px;

  /* Position the tooltip */
  position: absolute;
  z-index: 1;
  top: 100%;
  left: 50%;
  margin-left: -60px;
  box-shadow: 0 0 5px rgba(0, 0, 0, 0.1);
}

.eefljgmhgaidffapnppcmmafobefjece-d51ccbe2-fb13-4d79-9ab6-0f22cce4b656-tooltip:hover .eefljgmhgaidffapnppcmmafobefjece-d51ccbe2-fb13-4d79-9ab6-0f22cce4b656-tooltiptext {
  visibility: visible;
}

.eefljgmhgaidffapnppcmmafobefjece-d51ccbe2-fb13-4d79-9ab6-0f22cce4b656-text-btn {
  border: none;
  background-color: inherit;
  margin: 0 8px;
  padding: 0;
  font-size: 16px;
  font-wight: 600;
  cursor: pointer;
  display: inline-block;
  text-decoration: underline;
}
.eefljgmhgaidffapnppcmmafobefjece-d51ccbe2-fb13-4d79-9ab6-0f22cce4b656-text-btn:hover {
  background-image: linear-gradient( 270.09deg, #6b49fc -13.64%, #de85ff 86.14%, #e26ff1 106.56% );
  -webkit-background-clip: text;
  background-clip: text;
  color: transparent;
  text-decoration: none;
}
.eefljgmhgaidffapnppcmmafobefjece-d51ccbe2-fb13-4d79-9ab6-0f22cce4b656-text-btn.active {
  background-image: linear-gradient( 270.09deg, #6b49fc -13.64%, #de85ff 86.14%, #e26ff1 106.56% );
  -webkit-background-clip: text;
  background-clip: text;
  color: transparent;
  text-decoration: none;
}



/* Safari */
@-webkit-keyframes eefljgmhgaidffapnppcmmafobefjece-d51ccbe2-fb13-4d79-9ab6-0f22cce4b656-spin {
  0% { -webkit-transform: rotate(0deg); }
  100% { -webkit-transform: rotate(360deg); }
}

@keyframes eefljgmhgaidffapnppcmmafobefjece-d51ccbe2-fb13-4d79-9ab6-0f22cce4b656-spin {
  0% { transform: rotate(0deg); }
  100% { transform: rotate(360deg); }
}

        .eefljgmhgaidffapnppcmmafobefjece-d51ccbe2-fb13-4d79-9ab6-0f22cce4b656-loader {
            border: 16px solid #f3f3f3;
            /* Light grey */
            border-top: 16px solid #6b49fc;
            /* Dark Green */
            border-radius: 50%;
            width: 200px;
            height: 200px;
            animation: eefljgmhgaidffapnppcmmafobefjece-d51ccbe2-fb13-4d79-9ab6-0f22cce4b656-spinloader 2s linear infinite;
        }

        .eefljgmhgaidffapnppcmmafobefjece-d51ccbe2-fb13-4d79-9ab6-0f22cce4b656-loader img {
            padding: 40px;
            animation: eefljgmhgaidffapnppcmmafobefjece-d51ccbe2-fb13-4d79-9ab6-0f22cce4b656-spinlogo 2s linear infinite;
            width: 200px;
            height: 168px;
        }

        @keyframes eefljgmhgaidffapnppcmmafobefjece-d51ccbe2-fb13-4d79-9ab6-0f22cce4b656-spinloader {
            0% {
                transform: rotate(0deg);
            }

            100% {
                transform: rotate(360deg);
            }
        }

        @keyframes eefljgmhgaidffapnppcmmafobefjece-d51ccbe2-fb13-4d79-9ab6-0f22cce4b656-spinlogo {
            0% {
                transform: rotate(360deg);
            }

            100% {
                transform: rotate(0deg);
            }
        }
  .eefljgmhgaidffapnppcmmafobefjece-d51ccbe2-fb13-4d79-9ab6-0f22cce4b656-gradient-btn {
    background-image: linear-gradient( 270.09deg, #6b49fc -13.64%, #de85ff 86.14%, #e26ff1 106.56% );
    color: white;
    border: none;
    padding: 0;
    font-size: 16px;
    font-wight: 600;
    cursor: pointer;
    display: inline-block;
    width: fit-content;
    padding: 8px;
    border-radius: 8px;
  }

  .eefljgmhgaidffapnppcmmafobefjece-d51ccbe2-fb13-4d79-9ab6-0f22cce4b656-gradient-btn:hover {
    background-position: right center;
  }

.eefljgmhgaidffapnppcmmafobefjece-d51ccbe2-fb13-4d79-9ab6-0f22cce4b656-deep-view-modal-nav-bar {
    display: flex;
    justify-content: space-between;
    align-items: center;
    margin-bottom: 20px;
}

.eefljgmhgaidffapnppcmmafobefjece-d51ccbe2-fb13-4d79-9ab6-0f22cce4b656-deep-view-modal-nav-bar-search input {
    width: 20rem;
    height: 40px;
    border-radius: 20px;
    border: 1px solid #ccc;
    padding: 0 10px;
    font-size: 14px;
}

.eefljgmhgaidffapnppcmmafobefjece-d51ccbe2-fb13-4d79-9ab6-0f22cce4b656-deep-view-modal-nav-bar-search input:focus {
    outline: none;
}

.eefljgmhgaidffapnppcmmafobefjece-d51ccbe2-fb13-4d79-9ab6-0f22cce4b656-rounded-btn {
    width: 40px;
    height: 40px;
    border-radius: 20px;
    border: 1px solid #ccc;
    background-color: #fff;
    cursor: pointer;
}

.eefljgmhgaidffapnppcmmafobefjece-d51ccbe2-fb13-4d79-9ab6-0f22cce4b656-rounded-btn:hover {
    background-color: #ccc;
}

.eefljgmhgaidffapnppcmmafobefjece-d51ccbe2-fb13-4d79-9ab6-0f22cce4b656-rounded-btn:active {
    background-color: #aaa;
}
.eefljgmhgaidffapnppcmmafobefjece-d51ccbe2-fb13-4d79-9ab6-0f22cce4b656-deep-icon {
    width: 40px;
    height: 40px;
    border-radius: 20px;
    border: 1px solid #ccc;
    background-color: #fff;
    cursor: pointer;
}

.eefljgmhgaidffapnppcmmafobefjece-d51ccbe2-fb13-4d79-9ab6-0f22cce4b656-icon-text {
      color: rgb(130, 87, 254);
  }

  #eefljgmhgaidffapnppcmmafobefjece-d51ccbe2-fb13-4d79-9ab6-0f22cce4b656-scrollable-list {
    max-height: 50vh;
    min-height: 50vh;
    overflow: auto;
}

  .eefljgmhgaidffapnppcmmafobefjece-d51ccbe2-fb13-4d79-9ab6-0f22cce4b656-deep-view-modal-nav-bar-tabs {
    display: flex;
    justify-content: space-between;
    align-items: center;
    margin-bottom: 20px;
}

  .eefljgmhgaidffapnppcmmafobefjece-d51ccbe2-fb13-4d79-9ab6-0f22cce4b656-tablinks {
    background-color: #f2f2f2;
    color: black;
    padding: 8px 16px;
    width: 100%;
    border: none;
    text-align: left;
    cursor: pointer;
    transition: 0.3s;
  }

  .eefljgmhgaidffapnppcmmafobefjece-d51ccbe2-fb13-4d79-9ab6-0f22cce4b656-tablinks:hover {
    background-color: #ddd;
  }

  .eefljgmhgaidffapnppcmmafobefjece-d51ccbe2-fb13-4d79-9ab6-0f22cce4b656-tablinks.active {
    background-color: #ccc;
  }

  .eefljgmhgaidffapnppcmmafobefjece-d51ccbe2-fb13-4d79-9ab6-0f22cce4b656-productCard{
    border: 1px solid black;
    padding: 8px;
    margin-bottom: 8px;
    font-family: "Nunito Sans", "--apple-system", BlinkMacSystemFont, "Segoe UI", Roboto, Oxygen, Ubuntu, Cantarell, "Open Sans", "Helvetica Neue", sans-serif;
    position: relative;
    border-radius: 4px;
    border: 1px solid rgb(217, 224, 232);
    background-color: rgb(255, 255, 255);
    max-width: 400px;
    display: block;
    grid-template-columns: 207px 200px;
    gap: 8px;
    direction: ltr;
    display: flex!important;
    flex-direction: column!important;
    text-align: start;
}
.eefljgmhgaidffapnppcmmafobefjece-d51ccbe2-fb13-4d79-9ab6-0f22cce4b656-cardAsinDiv{
    font-stretch: normal;
    font-style: normal;
    letter-spacing: normal;
    margin: 0px;
    padding: 0px;
    text-transform: none;
    font-size: 16px;
    line-height: 24px;
    font-weight: 700;
    color: rgb(19, 25, 31);
    display: flex;
}
.eefljgmhgaidffapnppcmmafobefjece-d51ccbe2-fb13-4d79-9ab6-0f22cce4b656-categoryDiv{
    font-stretch: normal;
    font-style: normal;
    font-weight: normal;
    letter-spacing: normal;
    margin: 0px;
    padding: 0px;
    text-transform: none;
    font-size: 14px;
    line-height: 30px;
    /*color: rgb(43, 57, 72);*/
    white-space: nowrap;
    display: flex;
    -webkit-box-align: center;
    align-items: center;
    color: rgb(0, 129, 255) !important;
}
.eefljgmhgaidffapnppcmmafobefjece-d51ccbe2-fb13-4d79-9ab6-0f22cce4b656-restCardDataDiv{
    display: flex;
    flex-flow: wrap;
    gap: 8px;
    -webkit-box-pack: justify;
    justify-content: space-between;
}

.eefljgmhgaidffapnppcmmafobefjece-d51ccbe2-fb13-4d79-9ab6-0f22cce4b656-sales{
    display: flex;
    -webkit-box-pack: justify;
    justify-content: space-between;
    gap: 4px;
    /*flex-direction: column;*/
}

.eefljgmhgaidffapnppcmmafobefjece-d51ccbe2-fb13-4d79-9ab6-0f22cce4b656-salesVale{
    flex-direction: column;
}
 .eefljgmhgaidffapnppcmmafobefjece-d51ccbe2-fb13-4d79-9ab6-0f22cce4b656-product-details-popup-card {
    position: fixed;
    display: none;
    z-index: 9999;
    background: white;
    width: fit-content;
    height: fit-content;
    top: 40px;
    right: 20px;
    padding: 8px;
    box-shadow: 0 10px 15px -3px rgb(0 0 0 / 0.1), 0 4px 6px -4px rgb(0 0 0 / 0.1);
    border-radius: 8px;
 }

 .eefljgmhgaidffapnppcmmafobefjece-d51ccbe2-fb13-4d79-9ab6-0f22cce4b656-action-div {
  display: flex;
  justify-content: space-between;
  align-items: center;
  flex-wrap: wrap;
  width: 100%;
}

  .eefljgmhgaidffapnppcmmafobefjece-d51ccbe2-fb13-4d79-9ab6-0f22cce4b656-mui-white-btn {
    background-color: #fff !important;
    color: #047cfe !important;
    border: 1px solid #dde0e3;
    padding: 4px 8px;
    font-size: 16px;
    cursor: pointer;
    border-radius: 4px;
    text-align: center;
    text-decoration: none;
  }

  .eefljgmhgaidffapnppcmmafobefjece-d51ccbe2-fb13-4d79-9ab6-0f22cce4b656-mui-white-btn:hover {
    background-color: #f0f0f0;
  }

  .eefljgmhgaidffapnppcmmafobefjece-d51ccbe2-fb13-4d79-9ab6-0f22cce4b656-mui-purple-btn {
    background-color: rgb(130, 87, 254);
    color: white !important;
    padding: 8px 28px;
    font-size: 16px;
    cursor: pointer;
    border-radius: 16px;
    text-align: center;
    box-shadow: 0px 3px 1px -2px rgba(0,0,0,0.2), 0px 2px 2px 0px rgba(0,0,0,0.14), 0px 1px 5px 0px rgba(0,0,0,0.12);
  }

  .eefljgmhgaidffapnppcmmafobefjece-d51ccbe2-fb13-4d79-9ab6-0f22cce4b656-mui-purple-btn:hover {
    background-color: rgb(101 48 254);
  }

  .eefljgmhgaidffapnppcmmafobefjece-d51ccbe2-fb13-4d79-9ab6-0f22cce4b656-mui-purple-btn:active {
    background-color: rgb(101 48 254);
  }

  .eefljgmhgaidffapnppcmmafobefjece-d51ccbe2-fb13-4d79-9ab6-0f22cce4b656-mui-purple-btn:disabled {
    background-color: rgb(186 166 243);
    color: #9e9e9e;
    cursor: not-allowed;
  }

  .eefljgmhgaidffapnppcmmafobefjece-d51ccbe2-fb13-4d79-9ab6-0f22cce4b656-prod-list-items {
        font-stretch: normal;
    font-style: normal;
    font-weight: normal;
    letter-spacing: normal;
    margin: 0px;
    padding: 0px;
    text-transform: none;
    font-size: 14px;
    line-height: 18px;
    color: rgb(43, 57, 72);
    white-space: nowrap;
    display: flex;
    -webkit-box-align: center;
    align-items: center;
  }

  .eefljgmhgaidffapnppcmmafobefjece-d51ccbe2-fb13-4d79-9ab6-0f22cce4b656-list-items-a {
    color: #047cfe !important;
    margin-right: 4px;
    text-overflow: ellipsis;
    overflow: hidden;
    text-align: center;
  }

  .eefljgmhgaidffapnppcmmafobefjece-d51ccbe2-fb13-4d79-9ab6-0f22cce4b656-floating-menu-icon {
    display: flex;
    position: fixed;
    bottom: 90px;
    right: 0px;
    z-index: 999;
    color: #212121;
    background: white;
    box-shadow: rgba(103, 132, 162, 0.08) 0px 2px 3px, rgba(103, 132, 162, 0.16) 0px 1px 8px;
    border-radius: 6px 0px 0px 6px;
    cursor: pointer;
}

  .eefljgmhgaidffapnppcmmafobefjece-d51ccbe2-fb13-4d79-9ab6-0f22cce4b656-floating-menu-item {
        display: flex;
    flex-wrap: nowrap;
    align-items: center;
    font-stretch: normal;
    font-style: normal;
    font-weight: normal;
    letter-spacing: normal;
    text-transform: none;
    font-size: 16px;
    line-height: 24px;
    color: #212121 !important;
    fill: #212121;
    gap: 8px;
    border-radius: 6px;
    background-color: rgb(242, 245, 247);
    padding: 12px 16px;
    cursor: pointer;
  }

  .eefljgmhgaidffapnppcmmafobefjece-d51ccbe2-fb13-4d79-9ab6-0f22cce4b656-floating-menu-item svg {
    width: 24px;
    height: 24px;
    fill: #212121;
  }

  .eefljgmhgaidffapnppcmmafobefjece-d51ccbe2-fb13-4d79-9ab6-0f22cce4b656-floating-menu-item path {
    fill: #212121;
  }

  .eefljgmhgaidffapnppcmmafobefjece-d51ccbe2-fb13-4d79-9ab6-0f22cce4b656-floating-menu-item a {
    color: #212121 !important;
  }

  .eefljgmhgaidffapnppcmmafobefjece-d51ccbe2-fb13-4d79-9ab6-0f22cce4b656-floating-menu-item:hover {
    background-color: rgb(230, 236, 240);
  }

  .eefljgmhgaidffapnppcmmafobefjece-d51ccbe2-fb13-4d79-9ab6-0f22cce4b656-title {
  font-size: 16px;
  font-weight: 600;
  color: #212121;
  margin: 16px 0px 16px 16px;
  padding: 0;
  margin: 0;
  width: max-content;
}

.eefljgmhgaidffapnppcmmafobefjece-d51ccbe2-fb13-4d79-9ab6-0f22cce4b656-subtitle {
  font-size: 14px;
  font-weight: 400;
  color: #212121;
  padding: 0;
  margin: 0;
  width: max-content;
}



.eefljgmhgaidffapnppcmmafobefjece-d51ccbe2-fb13-4d79-9ab6-0f22cce4b656-purple-btn {
      display: -webkit-inline-box;
    display: -webkit-inline-flex;
    display: -ms-inline-flexbox;
    display: inline-flex;
    -webkit-align-items: center;
    -webkit-box-align: center;
    -ms-flex-align: center;
    align-items: center;
    -webkit-box-pack: center;
    -ms-flex-pack: center;
    -webkit-justify-content: center;
    justify-content: center;
    position: relative;
    box-sizing: border-box;
    -webkit-tap-highlight-color: transparent;
    background-color: transparent;
    outline: 0;
    border: 0;
    margin: 0;
    border-radius: 0;
    padding: 0;
    cursor: pointer;
    -webkit-user-select: none;
    -moz-user-select: none;
    -ms-user-select: none;
    user-select: none;
    vertical-align: middle;
    -moz-appearance: none;
    -webkit-appearance: none;
    -webkit-text-decoration: none;
    text-decoration: none;
    color: inherit;
    font-family: '__Roboto_42e952','__Roboto_Fallback_42e952';
    font-weight: 500;
    font-size: 0.9375rem;
    line-height: 1.75;
    text-transform: uppercase;
    min-width: 64px;
    padding: 8px 22px;
    border-radius: 4px;
    -webkit-transition: background-color 250ms cubic-bezier(0.4, 0, 0.2, 1) 0ms,box-shadow 250ms cubic-bezier(0.4, 0, 0.2, 1) 0ms,border-color 250ms cubic-bezier(0.4, 0, 0.2, 1) 0ms,color 250ms cubic-bezier(0.4, 0, 0.2, 1) 0ms;
    transition: background-color 250ms cubic-bezier(0.4, 0, 0.2, 1) 0ms,box-shadow 250ms cubic-bezier(0.4, 0, 0.2, 1) 0ms,border-color 250ms cubic-bezier(0.4, 0, 0.2, 1) 0ms,color 250ms cubic-bezier(0.4, 0, 0.2, 1) 0ms;
    color: #fff;
    background-color: #7449fb;
    box-shadow: 0px 3px 1px -2px rgba(0,0,0,0.2), 0px 2px 2px 0px rgba(0,0,0,0.14), 0px 1px 5px 0px rgba(0,0,0,0.12);
    width: 100%;
    text-transform: none;
    border-radius: 16px;
    margin-top: 24px;
    margin-bottom: 16px;
}

.eefljgmhgaidffapnppcmmafobefjece-d51ccbe2-fb13-4d79-9ab6-0f22cce4b656-input-group {
  position: relative;
  margin-bottom: 16px;
}
.eefljgmhgaidffapnppcmmafobefjece-d51ccbe2-fb13-4d79-9ab6-0f22cce4b656-input-group label {
  position: absolute;
  top: 9px;
  left: 10px;
  font-size: 16px;
  color: #cdcdcd;
  font-weight: normal;
  padding: 2px 5px;
  z-index: 5;
  -webkit-transition: all 0.3s linear;
  transition: all 0.3s linear;
}
.eefljgmhgaidffapnppcmmafobefjece-d51ccbe2-fb13-4d79-9ab6-0f22cce4b656-input-group input {
  outline: none;
  display: block;
  width: 100%;
  height: 40px;
  position: relative;
  z-index: 3;
  border: 1px solid #d9d9d9;
  padding: 10px 10px;
  background: #ffffff;
  box-sizing: border-box;
  font-wieght: 400;
  -webkit-transition: 0.3s ease;
  transition: 0.3s ease;
  border-radius: 4px;
}


.eefljgmhgaidffapnppcmmafobefjece-d51ccbe2-fb13-4d79-9ab6-0f22cce4b656-input-group.focused label {
  background: #fff;
  font-size: 12px;
  top: -8px;
  left: 5px;
  color: #7449fb;
}
.eefljgmhgaidffapnppcmmafobefjece-d51ccbe2-fb13-4d79-9ab6-0f22cce4b656-input-group span.validate-tooltip {
  margin-top: 0;
}
.eefljgmhgaidffapnppcmmafobefjece-d51ccbe2-fb13-4d79-9ab6-0f22cce4b656-wrapper {
  width: 400px;
  background: #fff;
  margin: 20px auto;
  min-height: 200px;
  border: 1px solid #f3f3f3;
}
.eefljgmhgaidffapnppcmmafobefjece-d51ccbe2-fb13-4d79-9ab6-0f22cce4b656-wrapper .eefljgmhgaidffapnppcmmafobefjece-d51ccbe2-fb13-4d79-9ab6-0f22cce4b656-inner-warpper {
  padding: 50px 30px 60px;
  box-shadow: 1px 1.732px 10px 0px rgba(0, 0, 0, 0.063);
}
.eefljgmhgaidffapnppcmmafobefjece-d51ccbe2-fb13-4d79-9ab6-0f22cce4b656-wrapper .eefljgmhgaidffapnppcmmafobefjece-d51ccbe2-fb13-4d79-9ab6-0f22cce4b656-title {
  margin-top: 0;
}
.eefljgmhgaidffapnppcmmafobefjece-d51ccbe2-fb13-4d79-9ab6-0f22cce4b656-wrapper .eefljgmhgaidffapnppcmmafobefjece-d51ccbe2-fb13-4d79-9ab6-0f22cce4b656-supporter {
  margin-top: 10px;
  font-size: 14px;
  color: #8E8E8E;
  cursor: pointer;
}

.wrongpass {
  display: none;
  color: rgb(215, 71, 71);
  font-style: normal;
  font-weight: 600;
  font-size: 100%;
  line-height: 33px;
  margin: 0%;
}

.eefljgmhgaidffapnppcmmafobefjece-d51ccbe2-fb13-4d79-9ab6-0f22cce4b656-loader-s {
  border: 8px solid #f3f3f3;
  border-top: 8px solid #3498db;
  border-radius: 50%;
  width: 40px;
  height: 40px;
  animation: eefljgmhgaidffapnppcmmafobefjece-d51ccbe2-fb13-4d79-9ab6-0f22cce4b656-spin 2s linear infinite;
  display: none;
}

@keyframes eefljgmhgaidffapnppcmmafobefjece-d51ccbe2-fb13-4d79-9ab6-0f22cce4b656-spin {
  0% {
    transform: rotate(0deg);
  }
  100% {
    transform: rotate(360deg);
  }
}

.hide-loader {
  display: none;
}
 .pricing-table td {
  padding: 8px;
 }
 .pricing-table th {
  padding: 8px !important;
 }
 .eefljgmhgaidffapnppcmmafobefjece-d51ccbe2-fb13-4d79-9ab6-0f22cce4b656-svg-inline {
    height: 1em;
  }

  .price-popup {
    cursor: pointer;
  }

  .eefljgmhgaidffapnppcmmafobefjece-d51ccbe2-fb13-4d79-9ab6-0f22cce4b656-white-rounded-box {
    background: white;
    color: black;
    padding: 8px;
    border-radius: 16px;
    border: 2px solid rgb(130, 87, 254);
    box-shadow: rgba(0, 0, 0, 0.2) 0px 4px 8px 0px;
  }

  .eefljgmhgaidffapnppcmmafobefjece-d51ccbe2-fb13-4d79-9ab6-0f22cce4b656-underline-text-hover:hover {
    text-decoration: underline;
  }

</style><script type="text/javascript" charset="utf-8" async="" data-requirecontext="_" data-requiremodule="services/contents" src="./01_Module_Introduction_files/contents.js.download"></script><script type="text/javascript" charset="utf-8" async="" data-requirecontext="_" data-requiremodule="custom/custom" src="./01_Module_Introduction_files/custom.js.download"></script><style type="text/css">.lf-progress {
  -webkit-appearance: none;
  -moz-apperance: none;
  width: 100%;
  /* margin: 0 10px; */
  height: 4px;
  border-radius: 3px;
  cursor: pointer;
}
.lf-progress:focus {
  outline: none;
  border: none;
}
.lf-progress::-moz-range-track {
  cursor: pointer;
  background: none;
  border: none;
  outline: none;
}
.lf-progress::-webkit-slider-thumb {
  -webkit-appearance: none !important;
  height: 13px;
  width: 13px;
  border: 0;
  border-radius: 50%;
  background: #0fccce;
  cursor: pointer;
}
.lf-progress::-moz-range-thumb {
  -moz-appearance: none !important;
  height: 13px;
  width: 13px;
  border: 0;
  border-radius: 50%;
  background: #0fccce;
  cursor: pointer;
}
.lf-progress::-ms-track {
  width: 100%;
  height: 3px;
  cursor: pointer;
  background: transparent;
  border-color: transparent;
  color: transparent;
}
.lf-progress::-ms-fill-lower {
  background: #ccc;
  border-radius: 3px;
}
.lf-progress::-ms-fill-upper {
  background: #ccc;
  border-radius: 3px;
}
.lf-progress::-ms-thumb {
  border: 0;
  height: 15px;
  width: 15px;
  border-radius: 50%;
  background: #0fccce;
  cursor: pointer;
}
.lf-progress:focus::-ms-fill-lower {
  background: #ccc;
}
.lf-progress:focus::-ms-fill-upper {
  background: #ccc;
}
.lf-player-container :focus {
  outline: 0;
}
.lf-popover {
  position: relative;
}

.lf-popover-content {
  display: inline-block;
  position: absolute;
  opacity: 1;
  visibility: visible;
  transform: translate(0, -10px);
  box-shadow: 0 2px 5px 0 rgba(0, 0, 0, 0.26);
  transition: all 0.3s cubic-bezier(0.75, -0.02, 0.2, 0.97);
}

.lf-popover-content.hidden {
  opacity: 0;
  visibility: hidden;
  transform: translate(0, 0px);
}

.lf-player-btn-container {
  display: flex;
  align-items: center;
}
.lf-player-btn {
  cursor: pointer;
  fill: #999;
  width: 14px;
}

.lf-player-btn.active {
  fill: #555;
}

.lf-popover {
  position: relative;
}

.lf-popover-content {
  display: inline-block;
  position: absolute;
  background-color: #ffffff;
  opacity: 1;

  transform: translate(0, -10px);
  box-shadow: 0 2px 5px 0 rgba(0, 0, 0, 0.26);
  transition: all 0.3s cubic-bezier(0.75, -0.02, 0.2, 0.97);
  padding: 10px;
}

.lf-popover-content.hidden {
  opacity: 0;
  visibility: hidden;
  transform: translate(0, 0px);
}

.lf-arrow {
  position: absolute;
  z-index: -1;
  content: '';
  bottom: -9px;
  border-style: solid;
  border-width: 10px 10px 0px 10px;
}

.lf-left-align,
.lf-left-align .lfarrow {
  left: 0;
  right: unset;
}

.lf-right-align,
.lf-right-align .lf-arrow {
  right: 0;
  left: unset;
}

.lf-text-input {
  border: 1px #ccc solid;
  border-radius: 5px;
  padding: 3px;
  width: 60px;
  margin: 0;
}

.lf-color-picker {
  display: flex;
  flex-direction: row;
  justify-content: space-between;
  height: 90px;
}

.lf-color-selectors {
  display: flex;
  flex-direction: column;
  justify-content: space-between;
}

.lf-color-component {
  display: flex;
  flex-direction: row;
  font-size: 12px;
  align-items: center;
  justify-content: center;
}

.lf-color-component strong {
  width: 40px;
}

.lf-color-component input[type='range'] {
  margin: 0 0 0 10px;
}

.lf-color-component input[type='number'] {
  width: 50px;
  margin: 0 0 0 10px;
}

.lf-color-preview {
  font-size: 12px;
  display: flex;
  flex-direction: column;
  align-items: center;
  justify-content: space-between;
  padding-left: 5px;
}

.lf-preview {
  height: 60px;
  width: 60px;
}

.lf-popover-snapshot {
  width: 150px;
}
.lf-popover-snapshot h5 {
  margin: 5px 0 10px 0;
  font-size: 0.75rem;
}
.lf-popover-snapshot a {
  display: block;
  text-decoration: none;
}
.lf-popover-snapshot a:before {
  content: '⥼';
  margin-right: 5px;
}
.lf-popover-snapshot .lf-note {
  display: block;
  margin-top: 10px;
  color: #999;
}
.lf-player-controls > div {
  margin-right: 5px;
  margin-left: 5px;
}
.lf-player-controls > div:first-child {
  margin-left: 0px;
}
.lf-player-controls > div:last-child {
  margin-right: 0px;
}
</style></head>

<body class="" data-jupyter-api-token="71432653ecaf84f1130b1b64288940cb3ce46a7cb0884ead" data-base-url="/" data-notebook-path="" data-terminals-available="True" data-server-root="C:\Users\ABDUL-JALAL" dir="ltr" data-titans-quick-view-extension-id="eefljgmhgaidffapnppcmmafobefjece" data-new-gr-c-s-check-loaded="14.1215.0" data-gr-ext-installed="">

<noscript>
    <div id='noscript'>
      Jupyter Notebook requires JavaScript.<br>
      Please enable it to proceed. 
  </div>
</noscript>

<div id="header" style="display: block;">
  <div id="header-container" class="container">
  <div id="ipython_notebook" class="nav navbar-brand"><a href="http://localhost:8888/tree?token=71432653ecaf84f1130b1b64288940cb3ce46a7cb0884ead" title="dashboard">
      <img src="./01_Module_Introduction_files/logo.png" alt="Jupyter Notebook">
  </a></div>

  
  <span class="flex-spacer"></span>
  
    <span id="shutdown_widget">
      <button id="shutdown" class="btn btn-sm navbar-btn" title="Stop the Jupyter server">
          Quit
      </button>
    </span>
  

  
  
  
  

    <span id="login_widget">
      
        <button id="logout" class="btn btn-sm navbar-btn">Logout</button>
      
    </span>

  

  
  
  </div>
  <div class="header-bar"></div>

  
  
</div>

<div id="site" style="display: block; height: 608px;">


  <div id="ipython-main-app" class="container">
    <div id="tab_content" class="tabbable">
      <ul id="tabs" class="nav nav-tabs">
        <li class="active"><a href="http://localhost:8888/tree#notebooks" data-toggle="tab">Files</a></li>
        <li><a href="http://localhost:8888/tree#running" data-toggle="tab">Running</a></li>
        <li><a href="http://localhost:8888/tree#clusters" data-toggle="tab" class="clusters_tab_link">Clusters</a></li>
      </ul>
      <div class="tab-content">
        <div id="notebooks" class="tab-pane active">
          <div id="notebook_toolbar" class="row list_toolbar">
            <div class="col-sm-8 no-padding">
              <div class="dynamic-instructions" style="display: none;">
                Select items to perform actions on them.
              </div>
              <div class="dynamic-buttons">
                  <button title="Duplicate selected" aria-label="Duplicate selected" class="duplicate-button btn btn-default btn-xs" style="display: inline-block;">Duplicate</button>
                  <button title="Rename selected" aria-label="Rename selected" class="rename-button btn btn-default btn-xs" style="display: none;">Rename</button>
                  <button title="Move selected" aria-label="Move selected" class="move-button btn btn-default btn-xs" style="display: none;">Move</button>
                  <button title="Download selected" aria-label="Download selected" class="download-button btn btn-default btn-xs" style="display: none;">Download</button>
                  <button title="Shutdown selected notebook(s)" aria-label="Shutdown selected notebook(s)" class="shutdown-button btn btn-default btn-xs btn-warning" style="display: inline-block;">Shutdown</button>
                  <button title="View selected" aria-label="View selected" class="view-button btn btn-default btn-xs" style="display: inline-block;">View</button>
                  <button title="Edit selected" aria-label="Edit selected" class="edit-button btn btn-default btn-xs" style="display: inline-block;">Edit</button>
                  <button title="Delete selected" aria-label="Delete selected" class="delete-button btn btn-default btn-xs btn-danger" style="display: inline-block;"><i class="fa fa-trash"></i></button>
              </div>
            </div>
            <div class="col-sm-4 no-padding tree-buttons">
              <div class="pull-right">
                <form id="alternate_upload" class="alternate_upload">
                  <span id="notebook_list_info" class="toolbar_info">
                  <span class="btn btn-xs btn-default btn-upload">
                  <input title="Click to browse for a file to upload." type="file" name="datafile" class="fileinput" multiple="multiple">
                  Upload
                  </span>
                  </span>
                </form>
                <div id="new-buttons" class="btn-group">
                  <button class="dropdown-toggle btn btn-default btn-xs" id="new-dropdown-button" data-toggle="dropdown">
                  <span>New</span>
                  <span class="caret"></span>
                  </button>
                  <ul id="new-menu" class="dropdown-menu">
                    <li role="presentation" class="dropdown-header" id="notebook-kernels">Notebook:</li><li id="kernel-python3"><a href="http://localhost:8888/tree#" title="Create a new notebook with Python 3">Python 3</a></li>
                    <li role="presentation" class="divider"></li>
                    <li role="presentation" class="dropdown-header">Other:</li>
                    <li role="presentation" id="new-file">
                      <a role="menuitem" tabindex="-1" href="http://localhost:8888/tree#">Text File</a>
                    </li>
                    <li role="presentation" id="new-folder">
                      <a role="menuitem" tabindex="-1" href="http://localhost:8888/tree#">Folder</a>
                    </li>
                    
                    <li role="presentation" id="new-terminal">
                      <a role="menuitem" tabindex="-1" href="http://localhost:8888/tree#">Terminal</a>
                    </li>
                    
                  </ul>
                </div>
                <div class="btn-group">
                    <button id="refresh_notebook_list" title="Refresh notebook list" aria-label="Refresh notebook list" class="btn btn-default btn-xs"><i class="fa fa-refresh"></i></button>
                </div>
              </div>
            </div>
          </div>
          <div id="notebook_list" class="list_container">
            <div id="notebook_list_header" class="row list_header">
              <div class="btn-group dropdown" id="tree-selector">
                <button title="Select All / None" aria-label="Select All / None" type="button" class="btn btn-default btn-xs" id="button-select-all">
                  <input type="checkbox" class="pull-left tree-selector" id="select-all"><span id="counter-select-all">1</span>
                </button>
                <button title="Select..." class="btn btn-default btn-xs dropdown-toggle" type="button" id="tree-selector-btn" data-toggle="dropdown" aria-expanded="true">
                  <span class="caret"></span>
                  <span class="sr-only">Toggle Dropdown</span>
                </button>
                <ul id="selector-menu" class="dropdown-menu" role="menu" aria-labelledby="tree-selector-btn">
                  <li role="presentation"><a id="select-folders" role="menuitem" tabindex="-1" href="http://localhost:8888/tree#" title="Select All Folders"><i class="menu_icon folder_icon icon-fixed-width"></i>&nbsp;Folders</a></li>
                  <li role="presentation"><a id="select-notebooks" role="menuitem" tabindex="-1" href="http://localhost:8888/tree#" title="Select All Notebooks"><i class="menu_icon notebook_icon icon-fixed-width"></i>&nbsp;All Notebooks</a></li>
                  <li role="presentation"><a id="select-running-notebooks" role="menuitem" tabindex="-1" href="http://localhost:8888/tree#" title="Select Running Notebooks"><i class="menu_icon running_notebook_icon icon-fixed-width"></i>&nbsp;Running</a></li>
                  <li role="presentation"><a id="select-files" role="menuitem" tabindex="-1" href="http://localhost:8888/tree#" title="Select All Files"><i class="menu_icon file_icon icon-fixed-width"></i>&nbsp;Files</a></li>
                </ul>
              </div>
              <div id="project_name">
                <ul class="breadcrumb"><li><a href="http://localhost:8888/tree"><i class="fa fa-folder"></i></a></li><li><a href="http://localhost:8888/tree"></a></li></ul>
              </div>
              <div id="file_size" class="pull-right sort_button">
                  <span class="btn btn-xs btn-default sort-action" id="file-size">
                      File size
                      <i class="fa"></i>
                  </span>
              </div>
              <div id="last_modified" class="pull-right sort_button">
                  <span class="btn btn-xs btn-default sort-action" id="last-modified">
                      Last Modified
                      <i class="fa"></i>
                  </span>
              </div>
              <div id="sort_name" class="pull-right sort_button">
                  <span class="btn btn-xs btn-default sort-action" id="sort-name">
                      Name
                      <i class="fa fa-arrow-down"></i>
                  </span>
              </div>
            </div><div class="list_item row"><div class="col-md-12"><input type="checkbox" title="Click here to rename, delete, etc."><i class="item_icon folder_icon icon-fixed-width"></i><a class="item_link" href="http://localhost:8888/tree/3D%20Objects"><span class="item_name">3D Objects</span></a><span class="file_size pull-right">&nbsp;</span><span class="item_modified pull-right" title="2024-10-09 02:58">2 months ago</span><div class="item_buttons pull-right"><div class="running-indicator" style="visibility: hidden;">Running</div></div></div></div><div class="list_item row"><div class="col-md-12"><input type="checkbox" title="Click here to rename, delete, etc."><i class="item_icon folder_icon icon-fixed-width"></i><a class="item_link" href="http://localhost:8888/tree/Anaconda3"><span class="item_name">Anaconda3</span></a><span class="file_size pull-right">&nbsp;</span><span class="item_modified pull-right" title="2024-10-31 21:09">2 months ago</span><div class="item_buttons pull-right"><div class="running-indicator" style="visibility: hidden;">Running</div></div></div></div><div class="list_item row"><div class="col-md-12"><input type="checkbox" title="Click here to rename, delete, etc."><i class="item_icon folder_icon icon-fixed-width"></i><a class="item_link" href="http://localhost:8888/tree/Cohort-3.0-Python-Programming-Fellowship-Assignment-"><span class="item_name">Cohort-3.0-Python-Programming-Fellowship-Assignment-</span></a><span class="file_size pull-right">&nbsp;</span><span class="item_modified pull-right" title="2024-11-10 15:35">a month ago</span><div class="item_buttons pull-right"><div class="running-indicator" style="visibility: hidden;">Running</div></div></div></div><div class="list_item row"><div class="col-md-12"><input type="checkbox" title="Click here to rename, delete, etc."><i class="item_icon folder_icon icon-fixed-width"></i><a class="item_link" href="http://localhost:8888/tree/Contacts"><span class="item_name">Contacts</span></a><span class="file_size pull-right">&nbsp;</span><span class="item_modified pull-right" title="2024-10-09 02:58">2 months ago</span><div class="item_buttons pull-right"><div class="running-indicator" style="visibility: hidden;">Running</div></div></div></div><div class="list_item row"><div class="col-md-12"><input type="checkbox" title="Click here to rename, delete, etc."><i class="item_icon folder_icon icon-fixed-width"></i><a class="item_link" href="http://localhost:8888/tree/Desktop"><span class="item_name">Desktop</span></a><span class="file_size pull-right">&nbsp;</span><span class="item_modified pull-right" title="2024-12-23 13:56">7 minutes ago</span><div class="item_buttons pull-right"><div class="running-indicator" style="visibility: hidden;">Running</div></div></div></div><div class="list_item row"><div class="col-md-12"><input type="checkbox" title="Click here to rename, delete, etc."><i class="item_icon folder_icon icon-fixed-width"></i><a class="item_link" href="http://localhost:8888/tree/Documents"><span class="item_name">Documents</span></a><span class="file_size pull-right">&nbsp;</span><span class="item_modified pull-right" title="2024-11-29 23:08">24 days ago</span><div class="item_buttons pull-right"><div class="running-indicator" style="visibility: hidden;">Running</div></div></div></div><div class="list_item row"><div class="col-md-12"><input type="checkbox" title="Click here to rename, delete, etc."><i class="item_icon folder_icon icon-fixed-width"></i><a class="item_link" href="http://localhost:8888/tree/Downloads"><span class="item_name">Downloads</span></a><span class="file_size pull-right">&nbsp;</span><span class="item_modified pull-right" title="2024-12-19 12:15">4 days ago</span><div class="item_buttons pull-right"><div class="running-indicator" style="visibility: hidden;">Running</div></div></div></div><div class="list_item row"><div class="col-md-12"><input type="checkbox" title="Click here to rename, delete, etc."><i class="item_icon folder_icon icon-fixed-width"></i><a class="item_link" href="http://localhost:8888/tree/Favorites"><span class="item_name">Favorites</span></a><span class="file_size pull-right">&nbsp;</span><span class="item_modified pull-right" title="2024-10-27 14:51">2 months ago</span><div class="item_buttons pull-right"><div class="running-indicator" style="visibility: hidden;">Running</div></div></div></div><div class="list_item row"><div class="col-md-12"><input type="checkbox" title="Click here to rename, delete, etc."><i class="item_icon folder_icon icon-fixed-width"></i><a class="item_link" href="http://localhost:8888/tree/Links"><span class="item_name">Links</span></a><span class="file_size pull-right">&nbsp;</span><span class="item_modified pull-right" title="2024-10-27 14:32">2 months ago</span><div class="item_buttons pull-right"><div class="running-indicator" style="visibility: hidden;">Running</div></div></div></div><div class="list_item row"><div class="col-md-12"><input type="checkbox" title="Click here to rename, delete, etc."><i class="item_icon folder_icon icon-fixed-width"></i><a class="item_link" href="http://localhost:8888/tree/miniconda"><span class="item_name">miniconda</span></a><span class="file_size pull-right">&nbsp;</span><span class="item_modified pull-right" title="2024-10-27 14:57">2 months ago</span><div class="item_buttons pull-right"><div class="running-indicator" style="visibility: hidden;">Running</div></div></div></div><div class="list_item row"><div class="col-md-12"><input type="checkbox" title="Click here to rename, delete, etc."><i class="item_icon folder_icon icon-fixed-width"></i><a class="item_link" href="http://localhost:8888/tree/miniconda2"><span class="item_name">miniconda2</span></a><span class="file_size pull-right">&nbsp;</span><span class="item_modified pull-right" title="2024-12-20 11:50">3 days ago</span><div class="item_buttons pull-right"><div class="running-indicator" style="visibility: hidden;">Running</div></div></div></div><div class="list_item row"><div class="col-md-12"><input type="checkbox" title="Click here to rename, delete, etc."><i class="item_icon folder_icon icon-fixed-width"></i><a class="item_link" href="http://localhost:8888/tree/miniconda3"><span class="item_name">miniconda3</span></a><span class="file_size pull-right">&nbsp;</span><span class="item_modified pull-right" title="2024-12-16 20:38">7 days ago</span><div class="item_buttons pull-right"><div class="running-indicator" style="visibility: hidden;">Running</div></div></div></div><div class="list_item row"><div class="col-md-12"><input type="checkbox" title="Click here to rename, delete, etc."><i class="item_icon folder_icon icon-fixed-width"></i><a class="item_link" href="http://localhost:8888/tree/Music"><span class="item_name">Music</span></a><span class="file_size pull-right">&nbsp;</span><span class="item_modified pull-right" title="2024-10-09 02:58">2 months ago</span><div class="item_buttons pull-right"><div class="running-indicator" style="visibility: hidden;">Running</div></div></div></div><div class="list_item row"><div class="col-md-12"><input type="checkbox" title="Click here to rename, delete, etc."><i class="item_icon folder_icon icon-fixed-width"></i><a class="item_link" href="http://localhost:8888/tree/New%20folder"><span class="item_name">New folder</span></a><span class="file_size pull-right">&nbsp;</span><span class="item_modified pull-right" title="2024-10-27 14:28">2 months ago</span><div class="item_buttons pull-right"><div class="running-indicator" style="visibility: hidden;">Running</div></div></div></div><div class="list_item row"><div class="col-md-12"><input type="checkbox" title="Click here to rename, delete, etc."><i class="item_icon folder_icon icon-fixed-width"></i><a class="item_link" href="http://localhost:8888/tree/OneDrive"><span class="item_name">OneDrive</span></a><span class="file_size pull-right">&nbsp;</span><span class="item_modified pull-right" title="2023-10-16 22:50">a year ago</span><div class="item_buttons pull-right"><div class="running-indicator" style="visibility: hidden;">Running</div></div></div></div><div class="list_item row"><div class="col-md-12"><input type="checkbox" title="Click here to rename, delete, etc."><i class="item_icon folder_icon icon-fixed-width"></i><a class="item_link" href="http://localhost:8888/tree/Pictures"><span class="item_name">Pictures</span></a><span class="file_size pull-right">&nbsp;</span><span class="item_modified pull-right" title="2024-10-09 02:58">2 months ago</span><div class="item_buttons pull-right"><div class="running-indicator" style="visibility: hidden;">Running</div></div></div></div><div class="list_item row"><div class="col-md-12"><input type="checkbox" title="Click here to rename, delete, etc."><i class="item_icon folder_icon icon-fixed-width"></i><a class="item_link" href="http://localhost:8888/tree/PixelSee"><span class="item_name">PixelSee</span></a><span class="file_size pull-right">&nbsp;</span><span class="item_modified pull-right" title="2023-05-31 02:05">2 years ago</span><div class="item_buttons pull-right"><div class="running-indicator" style="visibility: hidden;">Running</div></div></div></div><div class="list_item row"><div class="col-md-12"><input type="checkbox" title="Click here to rename, delete, etc."><i class="item_icon folder_icon icon-fixed-width"></i><a class="item_link" href="http://localhost:8888/tree/Saved%20Games"><span class="item_name">Saved Games</span></a><span class="file_size pull-right">&nbsp;</span><span class="item_modified pull-right" title="2024-10-09 02:58">2 months ago</span><div class="item_buttons pull-right"><div class="running-indicator" style="visibility: hidden;">Running</div></div></div></div><div class="list_item row"><div class="col-md-12"><input type="checkbox" title="Click here to rename, delete, etc."><i class="item_icon folder_icon icon-fixed-width"></i><a class="item_link" href="http://localhost:8888/tree/Searches"><span class="item_name">Searches</span></a><span class="file_size pull-right">&nbsp;</span><span class="item_modified pull-right" title="2024-10-09 02:58">2 months ago</span><div class="item_buttons pull-right"><div class="running-indicator" style="visibility: hidden;">Running</div></div></div></div><div class="list_item row"><div class="col-md-12"><input type="checkbox" title="Click here to rename, delete, etc."><i class="item_icon folder_icon icon-fixed-width"></i><a class="item_link" href="http://localhost:8888/tree/Videos"><span class="item_name">Videos</span></a><span class="file_size pull-right">&nbsp;</span><span class="item_modified pull-right" title="2024-10-09 02:58">2 months ago</span><div class="item_buttons pull-right"><div class="running-indicator" style="visibility: hidden;">Running</div></div></div></div><div class="list_item row"><div class="col-md-12"><input type="checkbox" title="Click here to rename, delete, etc."><i class="item_icon running_notebook_icon icon-fixed-width"></i><a class="item_link" href="http://localhost:8888/notebooks/01_Module_Introduction.ipynb" target="_blank"><span class="item_name">01_Module_Introduction.ipynb</span></a><span class="file_size pull-right">5.09 kB</span><span class="item_modified pull-right" title="2024-12-23 13:53">10 minutes ago</span><div class="item_buttons pull-right"><div class="running-indicator" style="">Running</div></div></div></div><div class="list_item row"><div class="col-md-12"><input type="checkbox" title="Click here to rename, delete, etc."><i class="item_icon notebook_icon icon-fixed-width"></i><a class="item_link" href="http://localhost:8888/notebooks/Untitled.ipynb" target="_blank"><span class="item_name">Untitled.ipynb</span></a><span class="file_size pull-right">5.84 kB</span><span class="item_modified pull-right" title="2024-12-22 15:26">a day ago</span><div class="item_buttons pull-right"><div class="running-indicator" style="visibility: hidden;">Running</div></div></div></div><div class="list_item row"><div class="col-md-12"><input type="checkbox" title="Click here to rename, delete, etc."><i class="item_icon file_icon icon-fixed-width"></i><a class="item_link" href="http://localhost:8888/edit/dir" target="_blank"><span class="item_name">dir</span></a><span class="file_size pull-right">0 B</span><span class="item_modified pull-right" title="2024-11-03 22:43">2 months ago</span><div class="item_buttons pull-right"><div class="running-indicator" style="visibility: hidden;">Running</div></div></div></div><div class="list_item row"><div class="col-md-12"><input type="checkbox" title="Click here to rename, delete, etc."><i class="item_icon file_icon icon-fixed-width"></i><a class="item_link" href="http://localhost:8888/files/Mujahid%20Muhammad%20Musa%202%20NICArb%20Essay%20contest.pdf" target="_blank"><span class="item_name">Mujahid Muhammad Musa 2 NICArb Essay contest.pdf</span></a><span class="file_size pull-right">421 kB</span><span class="item_modified pull-right" title="2023-09-18 19:29">a year ago</span><div class="item_buttons pull-right"><div class="running-indicator" style="visibility: hidden;">Running</div></div></div></div><div class="list_item row"><div class="col-md-12"><input type="checkbox" title="Click here to rename, delete, etc."><i class="item_icon file_icon icon-fixed-width"></i><a class="item_link" href="http://localhost:8888/edit/Mujahid%20Muhammad%20Musa%20NICArb%20Essay%20contest.docx" target="_blank"><span class="item_name">Mujahid Muhammad Musa NICArb Essay contest.docx</span></a><span class="file_size pull-right">36.6 kB</span><span class="item_modified pull-right" title="2023-09-18 19:29">a year ago</span><div class="item_buttons pull-right"><div class="running-indicator" style="visibility: hidden;">Running</div></div></div></div><div class="list_item row"><div class="col-md-12"><input type="checkbox" title="Click here to rename, delete, etc."><i class="item_icon file_icon icon-fixed-width"></i><a class="item_link" href="http://localhost:8888/files/Mujahid%20Muhammad%20Musa%20NICArb%20Essay%20contest.pdf" target="_blank"><span class="item_name">Mujahid Muhammad Musa NICArb Essay contest.pdf</span></a><span class="file_size pull-right">422 kB</span><span class="item_modified pull-right" title="2023-09-18 19:18">a year ago</span><div class="item_buttons pull-right"><div class="running-indicator" style="visibility: hidden;">Running</div></div></div></div><div class="list_item row"><div class="col-md-12"><input type="checkbox" title="Click here to rename, delete, etc."><i class="item_icon file_icon icon-fixed-width"></i><a class="item_link" href="http://localhost:8888/edit/NICArb%20Essay%20contest.docx" target="_blank"><span class="item_name">NICArb Essay contest.docx</span></a><span class="file_size pull-right">36.3 kB</span><span class="item_modified pull-right" title="2023-09-18 19:10">a year ago</span><div class="item_buttons pull-right"><div class="running-indicator" style="visibility: hidden;">Running</div></div></div></div>
          </div>
        </div>
        <div id="running" class="tab-pane">
          <div id="running_toolbar" class="row list_toolbar">
            <div class="col-sm-8 no-padding">
              <span id="running_list_info" class="toolbar_info">Currently running Jupyter processes</span>
            </div>
            <div class="col-sm-4 no-padding tree-buttons">
              <span id="running_buttons" class="pull-right toolbar_buttons">
              <button id="refresh_running_list" title="Refresh running list" aria-label="Refresh running list" class="btn btn-default btn-xs"><i class="fa fa-refresh"></i></button>
              </span>
            </div>
          </div>
          <div class="panel-group" id="accordion">
            <div class="panel panel-default">
              <div class="panel-heading">
                <a data-toggle="collapse" data-target="#collapseOne" href="http://localhost:8888/tree#">
                  Terminals
                <i class="fa fa-caret-down"></i></a>
              </div>
              <div id="collapseOne" class=" collapse in">
                <div class="panel-body">
                  <div id="terminal_list" class="list_container">
                    <div id="terminal_list_header" class="row list_placeholder">
                    
                      <div> There are no terminals running. </div>
                    
                    </div>
                  </div>
                </div>
              </div>
            </div>
            <div class="panel panel-default">
              <div class="panel-heading">
                <a data-toggle="collapse" data-target="#collapseTwo" href="http://localhost:8888/tree#">
                  Notebooks
                <i class="fa fa-caret-down"></i></a>
              </div>
              <div id="collapseTwo" class=" collapse in">
                <div class="panel-body">
                  <div id="running_list" class="list_container">
                    <div id="running_list_placeholder" class="row list_placeholder" style="display: none;">
                      <div> There are no notebooks running. </div>
                    </div>
                  <div class="list_item row"><div class="col-md-12"><i class="item_icon running_notebook_icon icon-fixed-width"></i><a class="item_link" href="http://localhost:8888/notebooks/01_Module_Introduction.ipynb" target="_blank"><span class="item_name">01_Module_Introduction.ipynb</span></a><span class="file_size pull-right">&nbsp;</span><span class="item_modified pull-right" title="2024-12-23 14:03">seconds ago</span><div class="item_buttons pull-right"><div class="kernel-name">Python 3</div><button class="btn btn-warning btn-xs">Shutdown</button></div></div></div></div>
                </div>
              </div>
            </div>
          </div>
        </div>
        <div id="clusters" class="tab-pane">
          Clusters tab is now provided by IPython parallel.
          See '<a href="https://github.com/ipython/ipyparallel">IPython parallel</a>' for installation details.
        </div>
      </div><!-- class:tab-content -->
    </div><!-- id:tab_content -->
  </div><!-- ipython-main-app  -->


</div>





    



<script src="./01_Module_Introduction_files/main.min.js.download" type="text/javascript" charset="utf-8"></script>


<script type="text/javascript">
  function _remove_token_from_url() {
    if (window.location.search.length <= 1) {
      return;
    }
    var search_parameters = window.location.search.slice(1).split('&');
    for (var i = 0; i < search_parameters.length; i++) {
      if (search_parameters[i].split('=')[0] === 'token') {
        // remote token from search parameters
        search_parameters.splice(i, 1);
        var new_search = '';
        if (search_parameters.length) {
          new_search = '?' + search_parameters.join('&');
        }
        var new_url = window.location.origin + 
                      window.location.pathname + 
                      new_search + 
                      window.location.hash;
        window.history.replaceState({}, "", new_url);
        return;
      }
    }
  }
  _remove_token_from_url();
</script>


</body><grammarly-desktop-integration data-grammarly-shadow-root="true"><template shadowrootmode="open"><style>
      div.grammarly-desktop-integration {
        position: absolute;
        width: 1px;
        height: 1px;
        padding: 0;
        margin: -1px;
        overflow: hidden;
        clip: rect(0, 0, 0, 0);
        white-space: nowrap;
        border: 0;
        -moz-user-select: none;
        -webkit-user-select: none;
        -ms-user-select:none;
        user-select:none;
      }

      div.grammarly-desktop-integration:before {
        content: attr(data-content);
      }
    </style><div aria-label="grammarly-integration" role="group" tabindex="-1" class="grammarly-desktop-integration" data-content="{&quot;mode&quot;:&quot;full&quot;,&quot;isActive&quot;:true,&quot;isUserDisabled&quot;:false}"></div></template></grammarly-desktop-integration></html>