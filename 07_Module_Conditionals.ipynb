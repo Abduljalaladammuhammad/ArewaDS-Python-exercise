{
 "cells": [
  {
   "cell_type": "markdown",
   "metadata": {},
   "source": [
    "# EXERCISE ONE"
   ]
  },
  {
   "cell_type": "markdown",
   "metadata": {},
   "source": [
    "Question one"
   ]
  },
  {
   "cell_type": "code",
   "execution_count": 1,
   "metadata": {},
   "outputs": [
    {
     "name": "stdout",
     "output_type": "stream",
     "text": [
      "You are old enough to drive\n"
     ]
    }
   ],
   "source": [
    "age = 26\n",
    "if age >= 18:\n",
    "    print(f\"You are old enough to drive\")\n",
    "    \n",
    "else:\n",
    "    print(f\"Wait till you reach 18 before you start driving\")\n",
    "    \n"
   ]
  },
  {
   "cell_type": "markdown",
   "metadata": {},
   "source": [
    "Question 2"
   ]
  },
  {
   "cell_type": "code",
   "execution_count": 2,
   "metadata": {},
   "outputs": [
    {
     "name": "stdout",
     "output_type": "stream",
     "text": [
      "You are older than me\n"
     ]
    }
   ],
   "source": [
    "my_age = 25\n",
    "\n",
    "your_age = 35\n",
    "if my_age > your_age:\n",
    "    print(f\"I am older than you\")\n",
    "    \n",
    "elif my_age < your_age:\n",
    "    print(f\"You are older than me\")\n",
    "    \n",
    "else:\n",
    "    print(f\"We have thesame year\")"
   ]
  },
  {
   "cell_type": "code",
   "execution_count": 10,
   "metadata": {},
   "outputs": [
    {
     "name": "stdout",
     "output_type": "stream",
     "text": [
      "your are 4 years older than me\n"
     ]
    }
   ],
   "source": [
    "my_age = 26\n",
    "\n",
    "your_age = 30\n",
    "\n",
    "if my_age > your_age:\n",
    "    difference = my_age - your_age \n",
    "    print(f\"I am {difference} years older than you\")\n",
    "    \n",
    "elif your_age > my_age:\n",
    "    difference = your_age - my_age\n",
    "    print(f\"your are {difference} years older than me\")\n",
    "    \n",
    "else:\n",
    "    print(f\"we have theasme years!\")\n",
    "\n",
    "\n"
   ]
  },
  {
   "cell_type": "markdown",
   "metadata": {},
   "source": [
    "# EXERCISE TWO"
   ]
  },
  {
   "cell_type": "code",
   "execution_count": 11,
   "metadata": {},
   "outputs": [
    {
     "name": "stdout",
     "output_type": "stream",
     "text": [
      "Excellent! you have an A in my course\n"
     ]
    }
   ],
   "source": [
    "grade = 100\n",
    "\n",
    "if grade >= 80:\n",
    "    print(f\"Excellent! you have an A in my course\")\n",
    "    \n",
    "elif grade <= 79:\n",
    "    print(f\"Good! You really tried, you have B inmy course\")\n",
    "    \n",
    "elif grade <= 69:\n",
    "    print(f\"Good! You have C in my course\")\n",
    "    \n",
    "elif grade <= 59:\n",
    "    print(f\"not bad! you have D in my course\")\n",
    "    \n",
    "else:\n",
    "    print(f\"you failed my course, you have F\")"
   ]
  },
  {
   "cell_type": "code",
   "execution_count": null,
   "metadata": {},
   "outputs": [],
   "source": []
  },
  {
   "cell_type": "code",
   "execution_count": null,
   "metadata": {},
   "outputs": [],
   "source": []
  }
 ],
 "metadata": {
  "kernelspec": {
   "display_name": "Python 3",
   "language": "python",
   "name": "python3"
  },
  "language_info": {
   "codemirror_mode": {
    "name": "ipython",
    "version": 3
   },
   "file_extension": ".py",
   "mimetype": "text/x-python",
   "name": "python",
   "nbconvert_exporter": "python",
   "pygments_lexer": "ipython3",
   "version": "3.7.1"
  }
 },
 "nbformat": 4,
 "nbformat_minor": 2
}
