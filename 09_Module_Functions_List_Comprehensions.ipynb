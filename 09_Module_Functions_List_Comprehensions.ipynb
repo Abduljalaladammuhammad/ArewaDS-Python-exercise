{
 "cells": [
  {
   "cell_type": "markdown",
   "metadata": {},
   "source": [
    "# EXERCISE LEVEL ONE"
   ]
  },
  {
   "cell_type": "code",
   "execution_count": 3,
   "metadata": {},
   "outputs": [
    {
     "name": "stdout",
     "output_type": "stream",
     "text": [
      "10\n"
     ]
    }
   ],
   "source": [
    "def add_numbers(a,b):\n",
    "    return a + b\n",
    "\n",
    "print(add_numbers(7,3))"
   ]
  },
  {
   "cell_type": "code",
   "execution_count": 6,
   "metadata": {},
   "outputs": [
    {
     "name": "stdout",
     "output_type": "stream",
     "text": [
      "153.93804002589985\n"
     ]
    }
   ],
   "source": [
    "import math\n",
    "\n",
    "def area_of_circle(radius):\n",
    "    return math.pi*radius**2\n",
    "\n",
    "print(area_of_circle(7))"
   ]
  },
  {
   "cell_type": "code",
   "execution_count": 28,
   "metadata": {},
   "outputs": [
    {
     "name": "stdout",
     "output_type": "stream",
     "text": [
      "the sumation of numbers is 138\n"
     ]
    }
   ],
   "source": [
    "def add_all_nums(*numbers):\n",
    "    return sum(numbers)\n",
    "\n",
    "print(\"the sumation of numbers is\", add_all_nums(5, 64, 67, 2))"
   ]
  },
  {
   "cell_type": "code",
   "execution_count": 29,
   "metadata": {},
   "outputs": [
    {
     "name": "stdout",
     "output_type": "stream",
     "text": [
      "32.0\n"
     ]
    }
   ],
   "source": [
    "def celsius_farenheit(C):\n",
    "    return (C * 9/5) +32\n",
    "\n",
    "print(celsius_farenheit(0))"
   ]
  },
  {
   "cell_type": "code",
   "execution_count": 30,
   "metadata": {},
   "outputs": [
    {
     "name": "stdout",
     "output_type": "stream",
     "text": [
      "212.0\n"
     ]
    }
   ],
   "source": [
    "print(celsius_farenheit(100))"
   ]
  },
  {
   "cell_type": "code",
   "execution_count": 51,
   "metadata": {},
   "outputs": [],
   "source": [
    "def check_season(month):\n",
    "    seasons = { \n",
    "    \"December\": \"Winter\", \"January\": \"Winter\", \"February\": \"winter\",\n",
    "    \"March\": \"Spring\", \"April\": \"Spring\", \"May\": \"Spring\",\n",
    "    \"June\": \"Summer\", \"July\": \"Summer\", \"August\": \"Summer\",\n",
    "    \"September\": \"Autumn\", \"October\": \"Autumn\", \"November\": \"Autumn\"\n",
    "    }\n",
    "    \n",
    "    return seasons.get(month)\n",
    "    \n",
    "    print(check_season('May'))"
   ]
  },
  {
   "cell_type": "code",
   "execution_count": 56,
   "metadata": {},
   "outputs": [
    {
     "name": "stdout",
     "output_type": "stream",
     "text": [
      "Autumn\n"
     ]
    }
   ],
   "source": [
    "print(check_season(\"November\"))"
   ]
  },
  {
   "cell_type": "code",
   "execution_count": 71,
   "metadata": {},
   "outputs": [
    {
     "name": "stdout",
     "output_type": "stream",
     "text": [
      "2.0\n"
     ]
    }
   ],
   "source": [
    "def slope(x1, y1, x2, y2):\n",
    "    return (y2 - y1) / (x2 -x1)\n",
    "\n",
    "print(slope(2, 6, 3, 8))"
   ]
  },
  {
   "cell_type": "code",
   "execution_count": 72,
   "metadata": {},
   "outputs": [],
   "source": [
    "import math\n",
    "\n",
    "def quadratic_equation(a, b, c):\n",
    "    discriminant = b**2 - 4*a*c\n",
    "    if discriminant > 0:\n",
    "        root1 = (-b + math.sqrt(b**2 - 4*a*c)) / (2*a)\n",
    "        root2 = (-b - math.sqrt(b**2 - 4*a*c)) / (2*a)\n",
    "        return root1, root2\n",
    "    elif discriminant == 0:\n",
    "        return (-b / (2*a))\n",
    "    else:\n",
    "        return \"underfined\"\n",
    "    \n",
    "    \n",
    "    print(quadratic_equation(5, 6, 2))\n",
    "    \n",
    "    "
   ]
  },
  {
   "cell_type": "code",
   "execution_count": 73,
   "metadata": {},
   "outputs": [
    {
     "name": "stdout",
     "output_type": "stream",
     "text": [
      "underfined\n"
     ]
    }
   ],
   "source": [
    "print(quadratic_equation(2, 4, 6))"
   ]
  },
  {
   "cell_type": "code",
   "execution_count": 76,
   "metadata": {},
   "outputs": [
    {
     "name": "stdout",
     "output_type": "stream",
     "text": [
      "underfined\n"
     ]
    }
   ],
   "source": [
    "print(quadratic_equation(5, 6, 2))"
   ]
  },
  {
   "cell_type": "code",
   "execution_count": 77,
   "metadata": {},
   "outputs": [
    {
     "name": "stdout",
     "output_type": "stream",
     "text": [
      "underfined\n"
     ]
    }
   ],
   "source": [
    "print(quadratic_equation(1, 2, 3))"
   ]
  },
  {
   "cell_type": "code",
   "execution_count": 78,
   "metadata": {},
   "outputs": [
    {
     "name": "stdout",
     "output_type": "stream",
     "text": [
      "(2.0, 1.0)\n"
     ]
    }
   ],
   "source": [
    "print(quadratic_equation(1, -3, 2))"
   ]
  },
  {
   "cell_type": "code",
   "execution_count": 84,
   "metadata": {},
   "outputs": [
    {
     "name": "stdout",
     "output_type": "stream",
     "text": [
      "JUICE\n",
      "LEMON\n",
      "FURIT SALAD\n"
     ]
    }
   ],
   "source": [
    "def print_list(items):\n",
    "    for item in items:\n",
    "        print(item)\n",
    "        \n",
    "print_list(['JUICE', 'LEMON', 'FURIT SALAD'])"
   ]
  },
  {
   "cell_type": "code",
   "execution_count": 88,
   "metadata": {},
   "outputs": [
    {
     "name": "stdout",
     "output_type": "stream",
     "text": [
      "[70, 60, 50, 40, 30, 20, 10]\n"
     ]
    }
   ],
   "source": [
    "def reverse_list(items):\n",
    "    return items[::-1]\n",
    "\n",
    "print(reverse_list([10, 20, 30, 40, 50, 60, 70]))"
   ]
  },
  {
   "cell_type": "code",
   "execution_count": 89,
   "metadata": {},
   "outputs": [
    {
     "name": "stdout",
     "output_type": "stream",
     "text": [
      "['mikaila', 'inuwa', 'yusuf', 'amina']\n"
     ]
    }
   ],
   "source": [
    "print(reverse_list(['amina', 'yusuf', 'inuwa', 'mikaila']))"
   ]
  },
  {
   "cell_type": "code",
   "execution_count": 98,
   "metadata": {},
   "outputs": [
    {
     "name": "stdout",
     "output_type": "stream",
     "text": [
      "['Abu', 'Yunus', 'Rukayya', 'Ismail']\n"
     ]
    }
   ],
   "source": [
    "def capitalize_list_items(items):\n",
    "    return [item.capitalize()for item in items]\n",
    "    \n",
    "print(capitalize_list_items(['abu', 'yunus', 'rukayya', 'ismail']))    "
   ]
  },
  {
   "cell_type": "code",
   "execution_count": 102,
   "metadata": {},
   "outputs": [
    {
     "name": "stdout",
     "output_type": "stream",
     "text": [
      "['Maggi', 'pepe', 'spice', 'oil', 'meat']\n"
     ]
    }
   ],
   "source": [
    "def add_item(lst, item):\n",
    "    lst.append(item)\n",
    "    return lst\n",
    "\n",
    "food_stuffs = ['Maggi', 'pepe', 'spice', 'oil']\n",
    "print(add_item(food_stuffs, 'meat'))"
   ]
  },
  {
   "cell_type": "code",
   "execution_count": 107,
   "metadata": {},
   "outputs": [
    {
     "name": "stdout",
     "output_type": "stream",
     "text": [
      "['Potato', 'Tomato', 'Mango']\n"
     ]
    }
   ],
   "source": [
    "def remove_item(lst, item):\n",
    "    if item in lst:\n",
    "        lst.remove(item)\n",
    "        return lst\n",
    "\n",
    "food_staff = ['Potato', 'Tomato', 'Mango', 'Milk']\n",
    "print(remove_item(food_staff, 'Milk'))"
   ]
  },
  {
   "cell_type": "code",
   "execution_count": 108,
   "metadata": {},
   "outputs": [
    {
     "name": "stdout",
     "output_type": "stream",
     "text": [
      "15\n"
     ]
    }
   ],
   "source": [
    "def  sum_of_numbers(n):\n",
    "    return sum(range(n + 1))\n",
    "\n",
    "print(sum_of_numbers(5))"
   ]
  },
  {
   "cell_type": "code",
   "execution_count": 109,
   "metadata": {},
   "outputs": [
    {
     "name": "stdout",
     "output_type": "stream",
     "text": [
      "55\n"
     ]
    }
   ],
   "source": [
    "print(sum_of_numbers(10))"
   ]
  },
  {
   "cell_type": "code",
   "execution_count": 110,
   "metadata": {},
   "outputs": [
    {
     "name": "stdout",
     "output_type": "stream",
     "text": [
      "5050\n"
     ]
    }
   ],
   "source": [
    "print(sum_of_numbers(100))"
   ]
  },
  {
   "cell_type": "code",
   "execution_count": 112,
   "metadata": {},
   "outputs": [
    {
     "name": "stdout",
     "output_type": "stream",
     "text": [
      "2500\n"
     ]
    }
   ],
   "source": [
    "def sum_of_odds(n):\n",
    "    return sum(i for i in range(n + 1) if i % 2 != 0)\n",
    "\n",
    "print(sum_of_odds(100))"
   ]
  },
  {
   "cell_type": "code",
   "execution_count": 113,
   "metadata": {},
   "outputs": [
    {
     "name": "stdout",
     "output_type": "stream",
     "text": [
      "25\n"
     ]
    }
   ],
   "source": [
    "print(sum_of_odds(10))"
   ]
  },
  {
   "cell_type": "code",
   "execution_count": 114,
   "metadata": {},
   "outputs": [
    {
     "name": "stdout",
     "output_type": "stream",
     "text": [
      "30\n",
      "2550\n"
     ]
    }
   ],
   "source": [
    "def sum_of_even(n):\n",
    "    return sum(i for i in range(n + 1) if i % 2 == 0)\n",
    "\n",
    "print(sum_of_even(10))\n",
    "print(sum_of_even(100))"
   ]
  },
  {
   "cell_type": "code",
   "execution_count": null,
   "metadata": {},
   "outputs": [],
   "source": []
  }
 ],
 "metadata": {
  "kernelspec": {
   "display_name": "Python 3",
   "language": "python",
   "name": "python3"
  },
  "language_info": {
   "codemirror_mode": {
    "name": "ipython",
    "version": 3
   },
   "file_extension": ".py",
   "mimetype": "text/x-python",
   "name": "python",
   "nbconvert_exporter": "python",
   "pygments_lexer": "ipython3",
   "version": "3.7.1"
  }
 },
 "nbformat": 4,
 "nbformat_minor": 2
}
